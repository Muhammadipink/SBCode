{
  "nbformat": 4,
  "nbformat_minor": 0,
  "metadata": {
    "colab": {
      "name": "Tugas Akhir.ipynb",
      "provenance": [],
      "collapsed_sections": [
        "q3rOq2OXfxI5",
        "rg-eggbzfxnA",
        "9Fh6j_S9OMK2",
        "9ugqsITgXJuH",
        "05rAoVXZSIBi",
        "oM9VNj0RYBcg"
      ]
    },
    "kernelspec": {
      "name": "python3",
      "display_name": "Python 3"
    },
    "language_info": {
      "name": "python"
    }
  },
  "cells": [
    {
      "cell_type": "markdown",
      "metadata": {
        "id": "oU_OgdgThQ2M"
      },
      "source": [
        "# **TUGAS AKHIR - SANBERCODE DS 28**\n",
        "\n",
        "> Nama: Muhammad Nur Arifin\n",
        "\n",
        "> Batch : Data Science Batch **28**\n",
        "\n",
        "\n",
        "#### **Objective**\n",
        "Untuk mengkategorikan negara menggunakan faktor sosial ekonomi dan kesehatan yang menentukan pembangunan negara secara keseluruhan.\n",
        "\n",
        "#### **Permasalahan**\n",
        "HELP International telah berhasil mengumpulkan sekitar $ 10 juta. Saat ini, CEO LSM perlu memutuskan bagaimana menggunakan uang ini secara strategis dan efektif. Jadi, CEO harus mengambil keputusan untuk memilih negara yang paling membutuhkan bantuan. Oleh karena itu, Tugas teman-teman  adalah mengkategorikan negara menggunakan beberapa faktor sosial ekonomi dan kesehatan yang menentukan perkembangan negara secara keseluruhan. Kemudian kalian perlu menyarankan negara mana saja  yang paling perlu menjadi fokus CEO.\n",
        "\n",
        "\n",
        "#### **Atribut**\n",
        "* Negara : Nama negara\n",
        "* Kematian_anak: Kematian anak di bawah usia 5 tahun per 1000 kelahiran\n",
        "* Ekspor : Ekspor barang dan jasa perkapita\n",
        "* Kesehatan: Total pengeluaran kesehatan perkapita\n",
        "* Impor: Impor barang dan jasa perkapita\n",
        "* Pendapatan: Penghasilan bersih perorang\n",
        "* Inflasi: Pengukuran tingkat pertumbuhan tahunan dari Total GDP \n",
        "* Harapan_hidup: Jumlah tahun rata-rata seorang anak yang baru lahir akan hidup jika pola kematian saat ini tetap sama\n",
        "* Jumlah_fertiliti: Jumlah anak yang akan lahir dari setiap wanita jika tingkat kesuburan usia saat ini tetap sama\n",
        "* GDPperkapita: GDP per kapita. Dihitung sebagai Total GDP dibagi dengan total populasi. \n",
        "\n",
        "\n"
      ]
    },
    {
      "cell_type": "markdown",
      "metadata": {
        "id": "q3rOq2OXfxI5"
      },
      "source": [
        "## **IMPORT LIBRARIES**"
      ]
    },
    {
      "cell_type": "code",
      "metadata": {
        "id": "xgw0Gfq0dk0u"
      },
      "source": [
        "import numpy as np\n",
        "import pandas as pd\n",
        "import matplotlib.pyplot as plt\n",
        "import seaborn as sns\n",
        "import plotly.express as px\n",
        "import warnings\n",
        "warnings.filterwarnings(\"ignore\")\n",
        "from sklearn.cluster import KMeans "
      ],
      "execution_count": 2,
      "outputs": []
    },
    {
      "cell_type": "markdown",
      "metadata": {
        "id": "rg-eggbzfxnA"
      },
      "source": [
        "## **READING & UNDERSTANDING DATA**"
      ]
    },
    {
      "cell_type": "code",
      "metadata": {
        "id": "qChCGhO8eALn"
      },
      "source": [
        "df = pd.read_csv('/content/Data_Negara_HELP.csv')"
      ],
      "execution_count": 3,
      "outputs": []
    },
    {
      "cell_type": "code",
      "metadata": {
        "colab": {
          "base_uri": "https://localhost:8080/",
          "height": 615
        },
        "id": "2zqTdIkyeEnK",
        "outputId": "fd0ec785-5518-48a7-935f-80ceeb85985b"
      },
      "source": [
        "# Menampilkan cuplikan dataset\n",
        "display(df.head())\n",
        "display(df.info())\n",
        "print('\\n')\n",
        "print('Berikut shape dari dataset -> ', df.shape)"
      ],
      "execution_count": 4,
      "outputs": [
        {
          "output_type": "display_data",
          "data": {
            "text/html": [
              "<div>\n",
              "<style scoped>\n",
              "    .dataframe tbody tr th:only-of-type {\n",
              "        vertical-align: middle;\n",
              "    }\n",
              "\n",
              "    .dataframe tbody tr th {\n",
              "        vertical-align: top;\n",
              "    }\n",
              "\n",
              "    .dataframe thead th {\n",
              "        text-align: right;\n",
              "    }\n",
              "</style>\n",
              "<table border=\"1\" class=\"dataframe\">\n",
              "  <thead>\n",
              "    <tr style=\"text-align: right;\">\n",
              "      <th></th>\n",
              "      <th>Negara</th>\n",
              "      <th>Kematian_anak</th>\n",
              "      <th>Ekspor</th>\n",
              "      <th>Kesehatan</th>\n",
              "      <th>Impor</th>\n",
              "      <th>Pendapatan</th>\n",
              "      <th>Inflasi</th>\n",
              "      <th>Harapan_hidup</th>\n",
              "      <th>Jumlah_fertiliti</th>\n",
              "      <th>GDPperkapita</th>\n",
              "    </tr>\n",
              "  </thead>\n",
              "  <tbody>\n",
              "    <tr>\n",
              "      <th>0</th>\n",
              "      <td>Afghanistan</td>\n",
              "      <td>90.2</td>\n",
              "      <td>10.0</td>\n",
              "      <td>7.58</td>\n",
              "      <td>44.9</td>\n",
              "      <td>1610</td>\n",
              "      <td>9.44</td>\n",
              "      <td>56.2</td>\n",
              "      <td>5.82</td>\n",
              "      <td>553</td>\n",
              "    </tr>\n",
              "    <tr>\n",
              "      <th>1</th>\n",
              "      <td>Albania</td>\n",
              "      <td>16.6</td>\n",
              "      <td>28.0</td>\n",
              "      <td>6.55</td>\n",
              "      <td>48.6</td>\n",
              "      <td>9930</td>\n",
              "      <td>4.49</td>\n",
              "      <td>76.3</td>\n",
              "      <td>1.65</td>\n",
              "      <td>4090</td>\n",
              "    </tr>\n",
              "    <tr>\n",
              "      <th>2</th>\n",
              "      <td>Algeria</td>\n",
              "      <td>27.3</td>\n",
              "      <td>38.4</td>\n",
              "      <td>4.17</td>\n",
              "      <td>31.4</td>\n",
              "      <td>12900</td>\n",
              "      <td>16.10</td>\n",
              "      <td>76.5</td>\n",
              "      <td>2.89</td>\n",
              "      <td>4460</td>\n",
              "    </tr>\n",
              "    <tr>\n",
              "      <th>3</th>\n",
              "      <td>Angola</td>\n",
              "      <td>119.0</td>\n",
              "      <td>62.3</td>\n",
              "      <td>2.85</td>\n",
              "      <td>42.9</td>\n",
              "      <td>5900</td>\n",
              "      <td>22.40</td>\n",
              "      <td>60.1</td>\n",
              "      <td>6.16</td>\n",
              "      <td>3530</td>\n",
              "    </tr>\n",
              "    <tr>\n",
              "      <th>4</th>\n",
              "      <td>Antigua and Barbuda</td>\n",
              "      <td>10.3</td>\n",
              "      <td>45.5</td>\n",
              "      <td>6.03</td>\n",
              "      <td>58.9</td>\n",
              "      <td>19100</td>\n",
              "      <td>1.44</td>\n",
              "      <td>76.8</td>\n",
              "      <td>2.13</td>\n",
              "      <td>12200</td>\n",
              "    </tr>\n",
              "  </tbody>\n",
              "</table>\n",
              "</div>"
            ],
            "text/plain": [
              "                Negara  Kematian_anak  ...  Jumlah_fertiliti  GDPperkapita\n",
              "0          Afghanistan           90.2  ...              5.82           553\n",
              "1              Albania           16.6  ...              1.65          4090\n",
              "2              Algeria           27.3  ...              2.89          4460\n",
              "3               Angola          119.0  ...              6.16          3530\n",
              "4  Antigua and Barbuda           10.3  ...              2.13         12200\n",
              "\n",
              "[5 rows x 10 columns]"
            ]
          },
          "metadata": {}
        },
        {
          "output_type": "stream",
          "name": "stdout",
          "text": [
            "<class 'pandas.core.frame.DataFrame'>\n",
            "RangeIndex: 167 entries, 0 to 166\n",
            "Data columns (total 10 columns):\n",
            " #   Column            Non-Null Count  Dtype  \n",
            "---  ------            --------------  -----  \n",
            " 0   Negara            167 non-null    object \n",
            " 1   Kematian_anak     167 non-null    float64\n",
            " 2   Ekspor            167 non-null    float64\n",
            " 3   Kesehatan         167 non-null    float64\n",
            " 4   Impor             167 non-null    float64\n",
            " 5   Pendapatan        167 non-null    int64  \n",
            " 6   Inflasi           167 non-null    float64\n",
            " 7   Harapan_hidup     167 non-null    float64\n",
            " 8   Jumlah_fertiliti  167 non-null    float64\n",
            " 9   GDPperkapita      167 non-null    int64  \n",
            "dtypes: float64(7), int64(2), object(1)\n",
            "memory usage: 13.2+ KB\n"
          ]
        },
        {
          "output_type": "display_data",
          "data": {
            "text/plain": [
              "None"
            ]
          },
          "metadata": {}
        },
        {
          "output_type": "stream",
          "name": "stdout",
          "text": [
            "\n",
            "\n",
            "Berikut shape dari dataset ->  (167, 10)\n"
          ]
        }
      ]
    },
    {
      "cell_type": "code",
      "metadata": {
        "colab": {
          "base_uri": "https://localhost:8080/",
          "height": 317
        },
        "id": "MeXl09D_R1GQ",
        "outputId": "fae46c33-e690-4d6d-d0c1-f5b1d3e889eb"
      },
      "source": [
        "df.describe()"
      ],
      "execution_count": 5,
      "outputs": [
        {
          "output_type": "execute_result",
          "data": {
            "text/html": [
              "<div>\n",
              "<style scoped>\n",
              "    .dataframe tbody tr th:only-of-type {\n",
              "        vertical-align: middle;\n",
              "    }\n",
              "\n",
              "    .dataframe tbody tr th {\n",
              "        vertical-align: top;\n",
              "    }\n",
              "\n",
              "    .dataframe thead th {\n",
              "        text-align: right;\n",
              "    }\n",
              "</style>\n",
              "<table border=\"1\" class=\"dataframe\">\n",
              "  <thead>\n",
              "    <tr style=\"text-align: right;\">\n",
              "      <th></th>\n",
              "      <th>Kematian_anak</th>\n",
              "      <th>Ekspor</th>\n",
              "      <th>Kesehatan</th>\n",
              "      <th>Impor</th>\n",
              "      <th>Pendapatan</th>\n",
              "      <th>Inflasi</th>\n",
              "      <th>Harapan_hidup</th>\n",
              "      <th>Jumlah_fertiliti</th>\n",
              "      <th>GDPperkapita</th>\n",
              "    </tr>\n",
              "  </thead>\n",
              "  <tbody>\n",
              "    <tr>\n",
              "      <th>count</th>\n",
              "      <td>167.000000</td>\n",
              "      <td>167.000000</td>\n",
              "      <td>167.000000</td>\n",
              "      <td>167.000000</td>\n",
              "      <td>167.000000</td>\n",
              "      <td>167.000000</td>\n",
              "      <td>167.000000</td>\n",
              "      <td>167.000000</td>\n",
              "      <td>167.000000</td>\n",
              "    </tr>\n",
              "    <tr>\n",
              "      <th>mean</th>\n",
              "      <td>38.270060</td>\n",
              "      <td>41.108976</td>\n",
              "      <td>6.815689</td>\n",
              "      <td>46.890215</td>\n",
              "      <td>17144.688623</td>\n",
              "      <td>7.781832</td>\n",
              "      <td>70.555689</td>\n",
              "      <td>2.947964</td>\n",
              "      <td>12964.155689</td>\n",
              "    </tr>\n",
              "    <tr>\n",
              "      <th>std</th>\n",
              "      <td>40.328931</td>\n",
              "      <td>27.412010</td>\n",
              "      <td>2.746837</td>\n",
              "      <td>24.209589</td>\n",
              "      <td>19278.067698</td>\n",
              "      <td>10.570704</td>\n",
              "      <td>8.893172</td>\n",
              "      <td>1.513848</td>\n",
              "      <td>18328.704809</td>\n",
              "    </tr>\n",
              "    <tr>\n",
              "      <th>min</th>\n",
              "      <td>2.600000</td>\n",
              "      <td>0.109000</td>\n",
              "      <td>1.810000</td>\n",
              "      <td>0.065900</td>\n",
              "      <td>609.000000</td>\n",
              "      <td>-4.210000</td>\n",
              "      <td>32.100000</td>\n",
              "      <td>1.150000</td>\n",
              "      <td>231.000000</td>\n",
              "    </tr>\n",
              "    <tr>\n",
              "      <th>25%</th>\n",
              "      <td>8.250000</td>\n",
              "      <td>23.800000</td>\n",
              "      <td>4.920000</td>\n",
              "      <td>30.200000</td>\n",
              "      <td>3355.000000</td>\n",
              "      <td>1.810000</td>\n",
              "      <td>65.300000</td>\n",
              "      <td>1.795000</td>\n",
              "      <td>1330.000000</td>\n",
              "    </tr>\n",
              "    <tr>\n",
              "      <th>50%</th>\n",
              "      <td>19.300000</td>\n",
              "      <td>35.000000</td>\n",
              "      <td>6.320000</td>\n",
              "      <td>43.300000</td>\n",
              "      <td>9960.000000</td>\n",
              "      <td>5.390000</td>\n",
              "      <td>73.100000</td>\n",
              "      <td>2.410000</td>\n",
              "      <td>4660.000000</td>\n",
              "    </tr>\n",
              "    <tr>\n",
              "      <th>75%</th>\n",
              "      <td>62.100000</td>\n",
              "      <td>51.350000</td>\n",
              "      <td>8.600000</td>\n",
              "      <td>58.750000</td>\n",
              "      <td>22800.000000</td>\n",
              "      <td>10.750000</td>\n",
              "      <td>76.800000</td>\n",
              "      <td>3.880000</td>\n",
              "      <td>14050.000000</td>\n",
              "    </tr>\n",
              "    <tr>\n",
              "      <th>max</th>\n",
              "      <td>208.000000</td>\n",
              "      <td>200.000000</td>\n",
              "      <td>17.900000</td>\n",
              "      <td>174.000000</td>\n",
              "      <td>125000.000000</td>\n",
              "      <td>104.000000</td>\n",
              "      <td>82.800000</td>\n",
              "      <td>7.490000</td>\n",
              "      <td>105000.000000</td>\n",
              "    </tr>\n",
              "  </tbody>\n",
              "</table>\n",
              "</div>"
            ],
            "text/plain": [
              "       Kematian_anak      Ekspor  ...  Jumlah_fertiliti   GDPperkapita\n",
              "count     167.000000  167.000000  ...        167.000000     167.000000\n",
              "mean       38.270060   41.108976  ...          2.947964   12964.155689\n",
              "std        40.328931   27.412010  ...          1.513848   18328.704809\n",
              "min         2.600000    0.109000  ...          1.150000     231.000000\n",
              "25%         8.250000   23.800000  ...          1.795000    1330.000000\n",
              "50%        19.300000   35.000000  ...          2.410000    4660.000000\n",
              "75%        62.100000   51.350000  ...          3.880000   14050.000000\n",
              "max       208.000000  200.000000  ...          7.490000  105000.000000\n",
              "\n",
              "[8 rows x 9 columns]"
            ]
          },
          "metadata": {},
          "execution_count": 5
        }
      ]
    },
    {
      "cell_type": "code",
      "metadata": {
        "colab": {
          "base_uri": "https://localhost:8080/",
          "height": 241
        },
        "id": "PUm-jf-0fmsL",
        "outputId": "738d4344-bcf3-4a96-cc75-38e1351a52f8"
      },
      "source": [
        "# Mendeteksi missing value\n",
        "print(df.isnull().sum())\n",
        "display(df.shape)"
      ],
      "execution_count": 6,
      "outputs": [
        {
          "output_type": "stream",
          "name": "stdout",
          "text": [
            "Negara              0\n",
            "Kematian_anak       0\n",
            "Ekspor              0\n",
            "Kesehatan           0\n",
            "Impor               0\n",
            "Pendapatan          0\n",
            "Inflasi             0\n",
            "Harapan_hidup       0\n",
            "Jumlah_fertiliti    0\n",
            "GDPperkapita        0\n",
            "dtype: int64\n"
          ]
        },
        {
          "output_type": "display_data",
          "data": {
            "text/plain": [
              "(167, 10)"
            ]
          },
          "metadata": {}
        }
      ]
    },
    {
      "cell_type": "code",
      "metadata": {
        "colab": {
          "base_uri": "https://localhost:8080/"
        },
        "id": "j9SiXb_RfR2N",
        "outputId": "fd6a77d6-71cc-4f24-a0b3-3793fe857a1d"
      },
      "source": [
        "df['Negara'].duplicated()"
      ],
      "execution_count": 7,
      "outputs": [
        {
          "output_type": "execute_result",
          "data": {
            "text/plain": [
              "0      False\n",
              "1      False\n",
              "2      False\n",
              "3      False\n",
              "4      False\n",
              "       ...  \n",
              "162    False\n",
              "163    False\n",
              "164    False\n",
              "165    False\n",
              "166    False\n",
              "Name: Negara, Length: 167, dtype: bool"
            ]
          },
          "metadata": {},
          "execution_count": 7
        }
      ]
    },
    {
      "cell_type": "markdown",
      "metadata": {
        "id": "9Fh6j_S9OMK2"
      },
      "source": [
        "## **EXPLORATORY DATA ANALYSIS**"
      ]
    },
    {
      "cell_type": "markdown",
      "metadata": {
        "id": "9ugqsITgXJuH"
      },
      "source": [
        "#### **A. Univariate**"
      ]
    },
    {
      "cell_type": "code",
      "metadata": {
        "id": "KhMn4DSDfs1b",
        "colab": {
          "base_uri": "https://localhost:8080/",
          "height": 54
        },
        "outputId": "8a66a0ae-e623-49ca-e42e-313bffefd989"
      },
      "source": [
        "plt.figure(figsize=(20,10))\n",
        "\n",
        "for i in enumerate(df.describe().columns):\n",
        "  plt.subplot(3,3, i[0]+1)\n",
        "  sns.distplot(df[i[1]])\n",
        "plt.show()"
      ],
      "execution_count": 8,
      "outputs": [
        {
          "output_type": "display_data",
          "data": {
            "image/png": "[encoded data removed]",
            "text/plain": [
              "<Figure size 1440x720 with 9 Axes>"
            ]
          },
          "metadata": {
            "needs_background": "light"
          }
        }
      ]
    },
    {
      "cell_type": "markdown",
      "metadata": {
        "id": "05rAoVXZSIBi"
      },
      "source": [
        "#### **B. Bivariate**"
      ]
    },
    {
      "cell_type": "code",
      "metadata": {
        "colab": {
          "base_uri": "https://localhost:8080/",
          "height": 524
        },
        "id": "fxkalJf3Sgxz",
        "outputId": "c8bc5e07-904a-4274-8498-89c599cdec64"
      },
      "source": [
        "health = df.sort_values('Kesehatan', ascending=False)\n",
        "health"
      ],
      "execution_count": 9,
      "outputs": [
        {
          "output_type": "execute_result",
          "data": {
            "text/html": [
              "<div>\n",
              "<style scoped>\n",
              "    .dataframe tbody tr th:only-of-type {\n",
              "        vertical-align: middle;\n",
              "    }\n",
              "\n",
              "    .dataframe tbody tr th {\n",
              "        vertical-align: top;\n",
              "    }\n",
              "\n",
              "    .dataframe thead th {\n",
              "        text-align: right;\n",
              "    }\n",
              "</style>\n",
              "<table border=\"1\" class=\"dataframe\">\n",
              "  <thead>\n",
              "    <tr style=\"text-align: right;\">\n",
              "      <th></th>\n",
              "      <th>Negara</th>\n",
              "      <th>Kematian_anak</th>\n",
              "      <th>Ekspor</th>\n",
              "      <th>Kesehatan</th>\n",
              "      <th>Impor</th>\n",
              "      <th>Pendapatan</th>\n",
              "      <th>Inflasi</th>\n",
              "      <th>Harapan_hidup</th>\n",
              "      <th>Jumlah_fertiliti</th>\n",
              "      <th>GDPperkapita</th>\n",
              "    </tr>\n",
              "  </thead>\n",
              "  <tbody>\n",
              "    <tr>\n",
              "      <th>159</th>\n",
              "      <td>United States</td>\n",
              "      <td>7.3</td>\n",
              "      <td>12.400</td>\n",
              "      <td>17.90</td>\n",
              "      <td>15.8000</td>\n",
              "      <td>49400</td>\n",
              "      <td>1.220</td>\n",
              "      <td>78.7</td>\n",
              "      <td>1.93</td>\n",
              "      <td>48400</td>\n",
              "    </tr>\n",
              "    <tr>\n",
              "      <th>101</th>\n",
              "      <td>Micronesia, Fed. Sts.</td>\n",
              "      <td>40.0</td>\n",
              "      <td>23.500</td>\n",
              "      <td>14.20</td>\n",
              "      <td>81.0000</td>\n",
              "      <td>3340</td>\n",
              "      <td>3.800</td>\n",
              "      <td>65.4</td>\n",
              "      <td>3.46</td>\n",
              "      <td>2860</td>\n",
              "    </tr>\n",
              "    <tr>\n",
              "      <th>132</th>\n",
              "      <td>Sierra Leone</td>\n",
              "      <td>160.0</td>\n",
              "      <td>16.800</td>\n",
              "      <td>13.10</td>\n",
              "      <td>34.5000</td>\n",
              "      <td>1220</td>\n",
              "      <td>17.200</td>\n",
              "      <td>55.0</td>\n",
              "      <td>5.20</td>\n",
              "      <td>399</td>\n",
              "    </tr>\n",
              "    <tr>\n",
              "      <th>110</th>\n",
              "      <td>Netherlands</td>\n",
              "      <td>4.5</td>\n",
              "      <td>72.000</td>\n",
              "      <td>11.90</td>\n",
              "      <td>63.6000</td>\n",
              "      <td>45500</td>\n",
              "      <td>0.848</td>\n",
              "      <td>80.7</td>\n",
              "      <td>1.79</td>\n",
              "      <td>50300</td>\n",
              "    </tr>\n",
              "    <tr>\n",
              "      <th>54</th>\n",
              "      <td>France</td>\n",
              "      <td>4.2</td>\n",
              "      <td>26.800</td>\n",
              "      <td>11.90</td>\n",
              "      <td>28.1000</td>\n",
              "      <td>36900</td>\n",
              "      <td>1.050</td>\n",
              "      <td>81.4</td>\n",
              "      <td>2.03</td>\n",
              "      <td>40600</td>\n",
              "    </tr>\n",
              "    <tr>\n",
              "      <th>...</th>\n",
              "      <td>...</td>\n",
              "      <td>...</td>\n",
              "      <td>...</td>\n",
              "      <td>...</td>\n",
              "      <td>...</td>\n",
              "      <td>...</td>\n",
              "      <td>...</td>\n",
              "      <td>...</td>\n",
              "      <td>...</td>\n",
              "      <td>...</td>\n",
              "    </tr>\n",
              "    <tr>\n",
              "      <th>154</th>\n",
              "      <td>Turkmenistan</td>\n",
              "      <td>62.0</td>\n",
              "      <td>76.300</td>\n",
              "      <td>2.50</td>\n",
              "      <td>44.5000</td>\n",
              "      <td>9940</td>\n",
              "      <td>2.310</td>\n",
              "      <td>67.9</td>\n",
              "      <td>2.83</td>\n",
              "      <td>4440</td>\n",
              "    </tr>\n",
              "    <tr>\n",
              "      <th>38</th>\n",
              "      <td>Congo, Rep.</td>\n",
              "      <td>63.9</td>\n",
              "      <td>85.100</td>\n",
              "      <td>2.46</td>\n",
              "      <td>54.7000</td>\n",
              "      <td>5190</td>\n",
              "      <td>20.700</td>\n",
              "      <td>60.4</td>\n",
              "      <td>4.95</td>\n",
              "      <td>2740</td>\n",
              "    </tr>\n",
              "    <tr>\n",
              "      <th>116</th>\n",
              "      <td>Pakistan</td>\n",
              "      <td>92.1</td>\n",
              "      <td>13.500</td>\n",
              "      <td>2.20</td>\n",
              "      <td>19.4000</td>\n",
              "      <td>4280</td>\n",
              "      <td>10.900</td>\n",
              "      <td>65.3</td>\n",
              "      <td>3.85</td>\n",
              "      <td>1040</td>\n",
              "    </tr>\n",
              "    <tr>\n",
              "      <th>107</th>\n",
              "      <td>Myanmar</td>\n",
              "      <td>64.4</td>\n",
              "      <td>0.109</td>\n",
              "      <td>1.97</td>\n",
              "      <td>0.0659</td>\n",
              "      <td>3720</td>\n",
              "      <td>7.040</td>\n",
              "      <td>66.8</td>\n",
              "      <td>2.41</td>\n",
              "      <td>988</td>\n",
              "    </tr>\n",
              "    <tr>\n",
              "      <th>123</th>\n",
              "      <td>Qatar</td>\n",
              "      <td>9.0</td>\n",
              "      <td>62.300</td>\n",
              "      <td>1.81</td>\n",
              "      <td>23.8000</td>\n",
              "      <td>125000</td>\n",
              "      <td>6.980</td>\n",
              "      <td>79.5</td>\n",
              "      <td>2.07</td>\n",
              "      <td>70300</td>\n",
              "    </tr>\n",
              "  </tbody>\n",
              "</table>\n",
              "<p>167 rows × 10 columns</p>\n",
              "</div>"
            ],
            "text/plain": [
              "                    Negara  Kematian_anak  ...  Jumlah_fertiliti  GDPperkapita\n",
              "159          United States            7.3  ...              1.93         48400\n",
              "101  Micronesia, Fed. Sts.           40.0  ...              3.46          2860\n",
              "132           Sierra Leone          160.0  ...              5.20           399\n",
              "110            Netherlands            4.5  ...              1.79         50300\n",
              "54                  France            4.2  ...              2.03         40600\n",
              "..                     ...            ...  ...               ...           ...\n",
              "154           Turkmenistan           62.0  ...              2.83          4440\n",
              "38             Congo, Rep.           63.9  ...              4.95          2740\n",
              "116               Pakistan           92.1  ...              3.85          1040\n",
              "107                Myanmar           64.4  ...              2.41           988\n",
              "123                  Qatar            9.0  ...              2.07         70300\n",
              "\n",
              "[167 rows x 10 columns]"
            ]
          },
          "metadata": {},
          "execution_count": 9
        }
      ]
    },
    {
      "cell_type": "code",
      "metadata": {
        "colab": {
          "base_uri": "https://localhost:8080/",
          "height": 71
        },
        "id": "7As7lyXtSyFM",
        "outputId": "49bcf6a4-462f-470d-c36f-d3ba6b0664b6"
      },
      "source": [
        "df[df['Kesehatan'] < 100].plot.scatter(x='Kesehatan', y='Pendapatan')"
      ],
      "execution_count": 10,
      "outputs": [
        {
          "output_type": "execute_result",
          "data": {
            "text/plain": [
              "<matplotlib.axes._subplots.AxesSubplot at 0x7ffa3866f490>"
            ]
          },
          "metadata": {},
          "execution_count": 10
        },
        {
          "output_type": "display_data",
          "data": {
            "image/png": "[encoded data removed]",
            "text/plain": [
              "<Figure size 432x288 with 1 Axes>"
            ]
          },
          "metadata": {
            "needs_background": "light"
          }
        }
      ]
    },
    {
      "cell_type": "code",
      "metadata": {
        "colab": {
          "base_uri": "https://localhost:8080/",
          "height": 71
        },
        "id": "It6p5nMGSHYM",
        "outputId": "5b37a295-55e1-4b79-dcfa-f41e845171e3"
      },
      "source": [
        "df.plot.hexbin(x='Pendapatan', y='Kesehatan', gridsize=15)"
      ],
      "execution_count": 11,
      "outputs": [
        {
          "output_type": "execute_result",
          "data": {
            "text/plain": [
              "<matplotlib.axes._subplots.AxesSubplot at 0x7ffa38636890>"
            ]
          },
          "metadata": {},
          "execution_count": 11
        },
        {
          "output_type": "display_data",
          "data": {
            "image/png": "[encoded data removed]",
            "text/plain": [
              "<Figure size 432x288 with 2 Axes>"
            ]
          },
          "metadata": {
            "needs_background": "light"
          }
        }
      ]
    },
    {
      "cell_type": "markdown",
      "metadata": {
        "id": "oM9VNj0RYBcg"
      },
      "source": [
        "#### **C. Multivariate**"
      ]
    },
    {
      "cell_type": "code",
      "metadata": {
        "colab": {
          "base_uri": "https://localhost:8080/",
          "height": 54
        },
        "id": "NHwb_wcFSHf9",
        "outputId": "f1c0a41e-3d9a-4648-ebfe-21beeb93ed00"
      },
      "source": [
        "sns.heatmap(df.corr(), annot=True, fmt='.2g');"
      ],
      "execution_count": 12,
      "outputs": [
        {
          "output_type": "display_data",
          "data": {
            "image/png": "[encoded data removed]",
            "text/plain": [
              "<Figure size 432x288 with 2 Axes>"
            ]
          },
          "metadata": {
            "needs_background": "light"
          }
        }
      ]
    },
    {
      "cell_type": "markdown",
      "metadata": {
        "id": "ENF0vi5VZKuO"
      },
      "source": [
        "## **OUTLIER TREATMENT**"
      ]
    },
    {
      "cell_type": "code",
      "metadata": {
        "colab": {
          "base_uri": "https://localhost:8080/",
          "height": 296
        },
        "id": "JdUaq8C0SHlz",
        "outputId": "8bd5a121-4997-408a-beca-71821ed44c22"
      },
      "source": [
        "sns.boxplot('Kesehatan', data=df)"
      ],
      "execution_count": 13,
      "outputs": [
        {
          "output_type": "execute_result",
          "data": {
            "text/plain": [
              "<matplotlib.axes._subplots.AxesSubplot at 0x7ffa2fbb7d90>"
            ]
          },
          "metadata": {},
          "execution_count": 13
        },
        {
          "output_type": "display_data",
          "data": {
            "image/png": "[encoded data removed]",
            "text/plain": [
              "<Figure size 432x288 with 1 Axes>"
            ]
          },
          "metadata": {
            "needs_background": "light"
          }
        }
      ]
    },
    {
      "cell_type": "code",
      "metadata": {
        "colab": {
          "base_uri": "https://localhost:8080/",
          "height": 296
        },
        "id": "ikKU8XftN1bL",
        "outputId": "bd17914f-3754-49fd-dcfe-519835996ad7"
      },
      "source": [
        "sns.boxplot('Pendapatan', data=df)"
      ],
      "execution_count": 14,
      "outputs": [
        {
          "output_type": "execute_result",
          "data": {
            "text/plain": [
              "<matplotlib.axes._subplots.AxesSubplot at 0x7ffa2fba8890>"
            ]
          },
          "metadata": {},
          "execution_count": 14
        },
        {
          "output_type": "display_data",
          "data": {
            "image/png": "[encoded data removed]",
            "text/plain": [
              "<Figure size 432x288 with 1 Axes>"
            ]
          },
          "metadata": {
            "needs_background": "light"
          }
        }
      ]
    },
    {
      "cell_type": "code",
      "metadata": {
        "id": "472egdxMZWlF",
        "colab": {
          "base_uri": "https://localhost:8080/"
        },
        "outputId": "3933ac78-4644-4446-c526-74168ec2531a"
      },
      "source": [
        "def finding_outlier(df):\n",
        "  Q1 = df.quantile(0.25)\n",
        "  Q3 = df.quantile(0.75)\n",
        "  IQR  = Q3-Q1\n",
        "  df_final = df[(df<(Q1-(1.5*IQR))) | (df>(Q3+(1.5*IQR)))]\n",
        "  return df_final\n",
        "\n",
        "print(finding_outlier(df['Kesehatan']))\n",
        "print(finding_outlier(df['Pendapatan']))"
      ],
      "execution_count": 15,
      "outputs": [
        {
          "output_type": "stream",
          "name": "stdout",
          "text": [
            "101    14.2\n",
            "159    17.9\n",
            "Name: Kesehatan, dtype: float64\n",
            "23      80600\n",
            "82      75200\n",
            "91      91700\n",
            "114     62300\n",
            "123    125000\n",
            "133     72100\n",
            "145     55500\n",
            "157     57600\n",
            "Name: Pendapatan, dtype: int64\n"
          ]
        }
      ]
    },
    {
      "cell_type": "code",
      "metadata": {
        "colab": {
          "base_uri": "https://localhost:8080/",
          "height": 419
        },
        "id": "cSw0JciTn2AD",
        "outputId": "c22ccad9-ef2d-4710-d9e5-7ac8d073f0ad"
      },
      "source": [
        "def remove_outlier(df):\n",
        "  Q1 = df.quantile(0.25)\n",
        "  Q3 = df.quantile(0.75)\n",
        "  IQR  = Q3-Q1\n",
        "  df_final = df[~(df>(Q1-(1.5*IQR))) | (df<(Q3+(1.5*IQR)))]\n",
        "  return df_final\n",
        "\n",
        "df2 = remove_outlier(df[['Kesehatan', 'Pendapatan']])\n",
        "\n",
        "df2.dropna(axis=0, inplace=True)\n",
        "df2"
      ],
      "execution_count": 16,
      "outputs": [
        {
          "output_type": "execute_result",
          "data": {
            "text/html": [
              "<div>\n",
              "<style scoped>\n",
              "    .dataframe tbody tr th:only-of-type {\n",
              "        vertical-align: middle;\n",
              "    }\n",
              "\n",
              "    .dataframe tbody tr th {\n",
              "        vertical-align: top;\n",
              "    }\n",
              "\n",
              "    .dataframe thead th {\n",
              "        text-align: right;\n",
              "    }\n",
              "</style>\n",
              "<table border=\"1\" class=\"dataframe\">\n",
              "  <thead>\n",
              "    <tr style=\"text-align: right;\">\n",
              "      <th></th>\n",
              "      <th>Kesehatan</th>\n",
              "      <th>Pendapatan</th>\n",
              "    </tr>\n",
              "  </thead>\n",
              "  <tbody>\n",
              "    <tr>\n",
              "      <th>0</th>\n",
              "      <td>7.58</td>\n",
              "      <td>1610.0</td>\n",
              "    </tr>\n",
              "    <tr>\n",
              "      <th>1</th>\n",
              "      <td>6.55</td>\n",
              "      <td>9930.0</td>\n",
              "    </tr>\n",
              "    <tr>\n",
              "      <th>2</th>\n",
              "      <td>4.17</td>\n",
              "      <td>12900.0</td>\n",
              "    </tr>\n",
              "    <tr>\n",
              "      <th>3</th>\n",
              "      <td>2.85</td>\n",
              "      <td>5900.0</td>\n",
              "    </tr>\n",
              "    <tr>\n",
              "      <th>4</th>\n",
              "      <td>6.03</td>\n",
              "      <td>19100.0</td>\n",
              "    </tr>\n",
              "    <tr>\n",
              "      <th>...</th>\n",
              "      <td>...</td>\n",
              "      <td>...</td>\n",
              "    </tr>\n",
              "    <tr>\n",
              "      <th>162</th>\n",
              "      <td>5.25</td>\n",
              "      <td>2950.0</td>\n",
              "    </tr>\n",
              "    <tr>\n",
              "      <th>163</th>\n",
              "      <td>4.91</td>\n",
              "      <td>16500.0</td>\n",
              "    </tr>\n",
              "    <tr>\n",
              "      <th>164</th>\n",
              "      <td>6.84</td>\n",
              "      <td>4490.0</td>\n",
              "    </tr>\n",
              "    <tr>\n",
              "      <th>165</th>\n",
              "      <td>5.18</td>\n",
              "      <td>4480.0</td>\n",
              "    </tr>\n",
              "    <tr>\n",
              "      <th>166</th>\n",
              "      <td>5.89</td>\n",
              "      <td>3280.0</td>\n",
              "    </tr>\n",
              "  </tbody>\n",
              "</table>\n",
              "<p>157 rows × 2 columns</p>\n",
              "</div>"
            ],
            "text/plain": [
              "     Kesehatan  Pendapatan\n",
              "0         7.58      1610.0\n",
              "1         6.55      9930.0\n",
              "2         4.17     12900.0\n",
              "3         2.85      5900.0\n",
              "4         6.03     19100.0\n",
              "..         ...         ...\n",
              "162       5.25      2950.0\n",
              "163       4.91     16500.0\n",
              "164       6.84      4490.0\n",
              "165       5.18      4480.0\n",
              "166       5.89      3280.0\n",
              "\n",
              "[157 rows x 2 columns]"
            ]
          },
          "metadata": {},
          "execution_count": 16
        }
      ]
    },
    {
      "cell_type": "code",
      "metadata": {
        "colab": {
          "base_uri": "https://localhost:8080/",
          "height": 279
        },
        "id": "pH2OnMrNoD7S",
        "outputId": "a93ffb0f-089a-474d-df2d-4a640a0ac4f1"
      },
      "source": [
        "sns.boxplot('Kesehatan', data=df2);"
      ],
      "execution_count": 17,
      "outputs": [
        {
          "output_type": "display_data",
          "data": {
            "image/png": "[encoded data removed]",
            "text/plain": [
              "<Figure size 432x288 with 1 Axes>"
            ]
          },
          "metadata": {
            "needs_background": "light"
          }
        }
      ]
    },
    {
      "cell_type": "code",
      "metadata": {
        "colab": {
          "base_uri": "https://localhost:8080/",
          "height": 279
        },
        "id": "mQvREDZWpqGw",
        "outputId": "aa25b44d-17e0-4930-815e-d062ae70adeb"
      },
      "source": [
        "sns.boxplot('Pendapatan', data=df2);"
      ],
      "execution_count": 18,
      "outputs": [
        {
          "output_type": "display_data",
          "data": {
            "image/png": "[encoded data removed]",
            "text/plain": [
              "<Figure size 432x288 with 1 Axes>"
            ]
          },
          "metadata": {
            "needs_background": "light"
          }
        }
      ]
    },
    {
      "cell_type": "code",
      "metadata": {
        "colab": {
          "base_uri": "https://localhost:8080/"
        },
        "id": "mhVqBIrsoP8-",
        "outputId": "0896ee0a-890c-4ccd-b01f-d080ebb543ac"
      },
      "source": [
        "df2['Kesehatan'].unique()"
      ],
      "execution_count": 19,
      "outputs": [
        {
          "output_type": "execute_result",
          "data": {
            "text/plain": [
              "array([ 7.58,  6.55,  4.17,  2.85,  6.03,  8.1 ,  4.4 ,  8.73, 11.  ,\n",
              "        5.88,  7.89,  4.97,  3.52,  7.97,  5.61, 10.7 ,  5.2 ,  4.1 ,\n",
              "        4.84, 11.1 ,  8.3 ,  9.01,  6.87,  6.74, 11.6 ,  5.68,  5.13,\n",
              "       11.3 ,  4.09,  3.98,  4.53,  7.96,  5.07,  7.59,  4.51,  7.91,\n",
              "        2.46, 10.9 ,  5.3 ,  7.76,  5.97,  7.88, 11.4 ,  6.22,  8.06,\n",
              "        4.66,  6.91,  4.48,  2.66,  4.86,  8.95, 11.9 ,  3.5 ,  5.69,\n",
              "       10.1 ,  5.22, 10.3 ,  5.86,  6.85,  4.93,  8.5 ,  5.38,  7.33,\n",
              "        9.4 ,  4.05,  2.61,  5.6 ,  8.41,  9.19,  7.63,  9.53,  4.81,\n",
              "        9.49,  8.04,  4.29,  4.75,  6.18,  4.47,  6.68,  7.03, 11.8 ,\n",
              "        3.88,  7.04,  7.09,  3.77,  6.59,  4.39,  6.33,  4.98,  8.65,\n",
              "        4.41,  6.  , 11.7 ,  5.44,  9.11,  5.21,  1.97,  6.78,  5.25,\n",
              "        5.16,  2.77,  2.2 ,  5.87,  5.08,  3.61,  7.46,  5.58, 10.5 ,\n",
              "        6.47,  5.66, 10.4 ,  3.4 , 13.1 ,  8.79,  9.41,  8.55,  8.94,\n",
              "        6.93,  9.54,  2.94,  6.32,  7.01,  9.63,  5.98,  6.01,  9.12,\n",
              "        7.65,  6.21,  2.5 ,  7.72,  9.64,  8.35,  5.81,  4.91,  6.84,\n",
              "        5.18,  5.89])"
            ]
          },
          "metadata": {},
          "execution_count": 19
        }
      ]
    },
    {
      "cell_type": "markdown",
      "metadata": {
        "id": "V_8Sb6j-pzhM"
      },
      "source": [
        "## **SCALING DATA**"
      ]
    },
    {
      "cell_type": "code",
      "metadata": {
        "id": "nWgNdIArpP5s"
      },
      "source": [
        "#feature scaling\n",
        "\n",
        "from sklearn.preprocessing import StandardScaler\n",
        "\n",
        "sc = StandardScaler()\n",
        "df_std = sc.fit_transform(df2)"
      ],
      "execution_count": 20,
      "outputs": []
    },
    {
      "cell_type": "markdown",
      "metadata": {
        "id": "9YRQg2aAbEUB"
      },
      "source": [
        "## **CREATING K MEANS CLUSTERING & VISUALIZING CLUSTERS FORMED**"
      ]
    },
    {
      "cell_type": "code",
      "metadata": {
        "colab": {
          "base_uri": "https://localhost:8080/"
        },
        "id": "k4x4yrBSp-WH",
        "outputId": "5dda6558-5523-41fe-c0d1-7d7fe4cc9fc8"
      },
      "source": [
        "#clustering with KMeans\n",
        "\n",
        "from sklearn.cluster import KMeans\n",
        "\n",
        "kmeans1 = KMeans(n_clusters = 2, random_state=42).fit(df_std)\n",
        "labels1 = kmeans1.labels_\n",
        "labels1"
      ],
      "execution_count": 21,
      "outputs": [
        {
          "output_type": "execute_result",
          "data": {
            "text/plain": [
              "array([1, 1, 1, 1, 1, 0, 1, 0, 0, 1, 0, 0, 1, 0, 1, 0, 1, 1, 1, 1, 0, 0,\n",
              "       0, 1, 1, 0, 1, 1, 0, 1, 1, 1, 0, 1, 1, 1, 1, 1, 0, 1, 0, 0, 0, 0,\n",
              "       1, 1, 1, 1, 0, 1, 1, 1, 0, 0, 1, 1, 0, 0, 1, 0, 1, 1, 1, 1, 1, 1,\n",
              "       0, 0, 1, 1, 1, 0, 0, 0, 0, 1, 0, 1, 1, 1, 0, 1, 1, 1, 1, 0, 0, 1,\n",
              "       0, 1, 1, 1, 1, 1, 1, 0, 1, 1, 0, 1, 0, 1, 1, 1, 1, 1, 0, 0, 1, 1,\n",
              "       0, 1, 0, 1, 1, 1, 0, 0, 1, 1, 0, 1, 0, 1, 0, 1, 0, 0, 0, 1, 0, 0,\n",
              "       0, 1, 1, 1, 1, 0, 1, 1, 1, 1, 1, 1, 1, 1, 1, 1, 1, 0, 0, 1, 1, 1,\n",
              "       1, 1, 1], dtype=int32)"
            ]
          },
          "metadata": {},
          "execution_count": 21
        }
      ]
    },
    {
      "cell_type": "code",
      "metadata": {
        "colab": {
          "base_uri": "https://localhost:8080/",
          "height": 419
        },
        "id": "exvrytSOqA9T",
        "outputId": "6648ebc0-45d3-4085-e986-87d28e75dd23"
      },
      "source": [
        "new_df = pd.DataFrame(data=df_std, columns=['Kesehatan', 'Pendapatan'])\n",
        "new_df['label1_kmeans'] = labels1\n",
        "new_df"
      ],
      "execution_count": 22,
      "outputs": [
        {
          "output_type": "execute_result",
          "data": {
            "text/html": [
              "<div>\n",
              "<style scoped>\n",
              "    .dataframe tbody tr th:only-of-type {\n",
              "        vertical-align: middle;\n",
              "    }\n",
              "\n",
              "    .dataframe tbody tr th {\n",
              "        vertical-align: top;\n",
              "    }\n",
              "\n",
              "    .dataframe thead th {\n",
              "        text-align: right;\n",
              "    }\n",
              "</style>\n",
              "<table border=\"1\" class=\"dataframe\">\n",
              "  <thead>\n",
              "    <tr style=\"text-align: right;\">\n",
              "      <th></th>\n",
              "      <th>Kesehatan</th>\n",
              "      <th>Pendapatan</th>\n",
              "      <th>label1_kmeans</th>\n",
              "    </tr>\n",
              "  </thead>\n",
              "  <tbody>\n",
              "    <tr>\n",
              "      <th>0</th>\n",
              "      <td>0.327239</td>\n",
              "      <td>-0.957093</td>\n",
              "      <td>1</td>\n",
              "    </tr>\n",
              "    <tr>\n",
              "      <th>1</th>\n",
              "      <td>-0.087510</td>\n",
              "      <td>-0.311883</td>\n",
              "      <td>1</td>\n",
              "    </tr>\n",
              "    <tr>\n",
              "      <th>2</th>\n",
              "      <td>-1.045863</td>\n",
              "      <td>-0.081562</td>\n",
              "      <td>1</td>\n",
              "    </tr>\n",
              "    <tr>\n",
              "      <th>3</th>\n",
              "      <td>-1.577386</td>\n",
              "      <td>-0.624407</td>\n",
              "      <td>1</td>\n",
              "    </tr>\n",
              "    <tr>\n",
              "      <th>4</th>\n",
              "      <td>-0.296898</td>\n",
              "      <td>0.399244</td>\n",
              "      <td>1</td>\n",
              "    </tr>\n",
              "    <tr>\n",
              "      <th>...</th>\n",
              "      <td>...</td>\n",
              "      <td>...</td>\n",
              "      <td>...</td>\n",
              "    </tr>\n",
              "    <tr>\n",
              "      <th>152</th>\n",
              "      <td>-0.610980</td>\n",
              "      <td>-0.853177</td>\n",
              "      <td>1</td>\n",
              "    </tr>\n",
              "    <tr>\n",
              "      <th>153</th>\n",
              "      <td>-0.747888</td>\n",
              "      <td>0.197616</td>\n",
              "      <td>1</td>\n",
              "    </tr>\n",
              "    <tr>\n",
              "      <th>154</th>\n",
              "      <td>0.029264</td>\n",
              "      <td>-0.733751</td>\n",
              "      <td>1</td>\n",
              "    </tr>\n",
              "    <tr>\n",
              "      <th>155</th>\n",
              "      <td>-0.639167</td>\n",
              "      <td>-0.734527</td>\n",
              "      <td>1</td>\n",
              "    </tr>\n",
              "    <tr>\n",
              "      <th>156</th>\n",
              "      <td>-0.353272</td>\n",
              "      <td>-0.827586</td>\n",
              "      <td>1</td>\n",
              "    </tr>\n",
              "  </tbody>\n",
              "</table>\n",
              "<p>157 rows × 3 columns</p>\n",
              "</div>"
            ],
            "text/plain": [
              "     Kesehatan  Pendapatan  label1_kmeans\n",
              "0     0.327239   -0.957093              1\n",
              "1    -0.087510   -0.311883              1\n",
              "2    -1.045863   -0.081562              1\n",
              "3    -1.577386   -0.624407              1\n",
              "4    -0.296898    0.399244              1\n",
              "..         ...         ...            ...\n",
              "152  -0.610980   -0.853177              1\n",
              "153  -0.747888    0.197616              1\n",
              "154   0.029264   -0.733751              1\n",
              "155  -0.639167   -0.734527              1\n",
              "156  -0.353272   -0.827586              1\n",
              "\n",
              "[157 rows x 3 columns]"
            ]
          },
          "metadata": {},
          "execution_count": 22
        }
      ]
    },
    {
      "cell_type": "code",
      "metadata": {
        "colab": {
          "base_uri": "https://localhost:8080/",
          "height": 497
        },
        "id": "winTvYc8qRTH",
        "outputId": "da66bad1-2e44-4f0e-d551-bbc36520f1d6"
      },
      "source": [
        "plt.figure(figsize=(12,8))\n",
        "\n",
        "plt.scatter(new_df['Kesehatan'][new_df.label1_kmeans==0], new_df['Pendapatan'][new_df.label1_kmeans==0], c='blue', s=100, edgecolors='green')\n",
        "plt.scatter(new_df['Kesehatan'][new_df.label1_kmeans==1], new_df['Pendapatan'][new_df.label1_kmeans==1], c='red', s=100, edgecolors='green')\n",
        "\n",
        "plt.scatter(kmeans1.cluster_centers_[:,0], kmeans1.cluster_centers_[:,1], c='k', s=300)\n",
        "plt.xlabel('Kesehatan')\n",
        "plt.ylabel('Pendapatan')\n",
        "plt.show()"
      ],
      "execution_count": 23,
      "outputs": [
        {
          "output_type": "display_data",
          "data": {
            "image/png": "[encoded data removed]",
            "text/plain": [
              "<Figure size 864x576 with 1 Axes>"
            ]
          },
          "metadata": {
            "needs_background": "light"
          }
        }
      ]
    },
    {
      "cell_type": "code",
      "metadata": {
        "colab": {
          "base_uri": "https://localhost:8080/",
          "height": 296
        },
        "id": "GYThMYEXqhhw",
        "outputId": "055713db-8b71-4a70-da7b-ceca2c3e7948"
      },
      "source": [
        "wcss = []\n",
        "for i in range(1,11):\n",
        "  kmeans = KMeans(n_clusters=i, init='k-means++', random_state=42)\n",
        "  kmeans.fit(df_std)\n",
        "  wcss.append(kmeans.inertia_)\n",
        "\n",
        "plt.plot(range(1,11), wcss)\n",
        "plt.title('Elbow method')\n",
        "plt.xlabel('n_clusters')\n",
        "plt.ylabel('wcss')\n",
        "\n",
        "plt.show()"
      ],
      "execution_count": 24,
      "outputs": [
        {
          "output_type": "display_data",
          "data": {
            "image/png": "[encoded data removed]",
            "text/plain": [
              "<Figure size 432x288 with 1 Axes>"
            ]
          },
          "metadata": {
            "needs_background": "light"
          }
        }
      ]
    },
    {
      "cell_type": "code",
      "metadata": {
        "id": "OOWS4XSWqtBB"
      },
      "source": [
        "kmeans2 = KMeans(n_clusters = 4, init='k-means++', random_state=42)\n",
        "kmeans2.fit(df_std)\n",
        "labels2 = kmeans2.labels_\n"
      ],
      "execution_count": 25,
      "outputs": []
    },
    {
      "cell_type": "code",
      "metadata": {
        "colab": {
          "base_uri": "https://localhost:8080/",
          "height": 419
        },
        "id": "-7JJWEavq289",
        "outputId": "a50a083a-3ac2-4093-e86b-a6194773d53e"
      },
      "source": [
        "new_df['label2_kmeans'] = labels2\n",
        "new_df"
      ],
      "execution_count": 26,
      "outputs": [
        {
          "output_type": "execute_result",
          "data": {
            "text/html": [
              "<div>\n",
              "<style scoped>\n",
              "    .dataframe tbody tr th:only-of-type {\n",
              "        vertical-align: middle;\n",
              "    }\n",
              "\n",
              "    .dataframe tbody tr th {\n",
              "        vertical-align: top;\n",
              "    }\n",
              "\n",
              "    .dataframe thead th {\n",
              "        text-align: right;\n",
              "    }\n",
              "</style>\n",
              "<table border=\"1\" class=\"dataframe\">\n",
              "  <thead>\n",
              "    <tr style=\"text-align: right;\">\n",
              "      <th></th>\n",
              "      <th>Kesehatan</th>\n",
              "      <th>Pendapatan</th>\n",
              "      <th>label1_kmeans</th>\n",
              "      <th>label2_kmeans</th>\n",
              "    </tr>\n",
              "  </thead>\n",
              "  <tbody>\n",
              "    <tr>\n",
              "      <th>0</th>\n",
              "      <td>0.327239</td>\n",
              "      <td>-0.957093</td>\n",
              "      <td>1</td>\n",
              "      <td>2</td>\n",
              "    </tr>\n",
              "    <tr>\n",
              "      <th>1</th>\n",
              "      <td>-0.087510</td>\n",
              "      <td>-0.311883</td>\n",
              "      <td>1</td>\n",
              "      <td>1</td>\n",
              "    </tr>\n",
              "    <tr>\n",
              "      <th>2</th>\n",
              "      <td>-1.045863</td>\n",
              "      <td>-0.081562</td>\n",
              "      <td>1</td>\n",
              "      <td>1</td>\n",
              "    </tr>\n",
              "    <tr>\n",
              "      <th>3</th>\n",
              "      <td>-1.577386</td>\n",
              "      <td>-0.624407</td>\n",
              "      <td>1</td>\n",
              "      <td>1</td>\n",
              "    </tr>\n",
              "    <tr>\n",
              "      <th>4</th>\n",
              "      <td>-0.296898</td>\n",
              "      <td>0.399244</td>\n",
              "      <td>1</td>\n",
              "      <td>0</td>\n",
              "    </tr>\n",
              "    <tr>\n",
              "      <th>...</th>\n",
              "      <td>...</td>\n",
              "      <td>...</td>\n",
              "      <td>...</td>\n",
              "      <td>...</td>\n",
              "    </tr>\n",
              "    <tr>\n",
              "      <th>152</th>\n",
              "      <td>-0.610980</td>\n",
              "      <td>-0.853177</td>\n",
              "      <td>1</td>\n",
              "      <td>1</td>\n",
              "    </tr>\n",
              "    <tr>\n",
              "      <th>153</th>\n",
              "      <td>-0.747888</td>\n",
              "      <td>0.197616</td>\n",
              "      <td>1</td>\n",
              "      <td>0</td>\n",
              "    </tr>\n",
              "    <tr>\n",
              "      <th>154</th>\n",
              "      <td>0.029264</td>\n",
              "      <td>-0.733751</td>\n",
              "      <td>1</td>\n",
              "      <td>1</td>\n",
              "    </tr>\n",
              "    <tr>\n",
              "      <th>155</th>\n",
              "      <td>-0.639167</td>\n",
              "      <td>-0.734527</td>\n",
              "      <td>1</td>\n",
              "      <td>1</td>\n",
              "    </tr>\n",
              "    <tr>\n",
              "      <th>156</th>\n",
              "      <td>-0.353272</td>\n",
              "      <td>-0.827586</td>\n",
              "      <td>1</td>\n",
              "      <td>1</td>\n",
              "    </tr>\n",
              "  </tbody>\n",
              "</table>\n",
              "<p>157 rows × 4 columns</p>\n",
              "</div>"
            ],
            "text/plain": [
              "     Kesehatan  Pendapatan  label1_kmeans  label2_kmeans\n",
              "0     0.327239   -0.957093              1              2\n",
              "1    -0.087510   -0.311883              1              1\n",
              "2    -1.045863   -0.081562              1              1\n",
              "3    -1.577386   -0.624407              1              1\n",
              "4    -0.296898    0.399244              1              0\n",
              "..         ...         ...            ...            ...\n",
              "152  -0.610980   -0.853177              1              1\n",
              "153  -0.747888    0.197616              1              0\n",
              "154   0.029264   -0.733751              1              1\n",
              "155  -0.639167   -0.734527              1              1\n",
              "156  -0.353272   -0.827586              1              1\n",
              "\n",
              "[157 rows x 4 columns]"
            ]
          },
          "metadata": {},
          "execution_count": 26
        }
      ]
    },
    {
      "cell_type": "code",
      "metadata": {
        "colab": {
          "base_uri": "https://localhost:8080/",
          "height": 497
        },
        "id": "gjBAR2UFq5tK",
        "outputId": "ffeae9fc-ed9f-43ea-8534-37131cf72e47"
      },
      "source": [
        "plt.figure(figsize=(12,8))\n",
        "\n",
        "plt.scatter(new_df['Kesehatan'][new_df.label2_kmeans==0], new_df['Pendapatan'][new_df.label2_kmeans==0], label='0', c='blue', s=100, edgecolors='green')\n",
        "plt.scatter(new_df['Kesehatan'][new_df.label2_kmeans==1], new_df['Pendapatan'][new_df.label2_kmeans==1], label='1', c='red', s=100, edgecolors='green')\n",
        "plt.scatter(new_df['Kesehatan'][new_df.label2_kmeans==2], new_df['Pendapatan'][new_df.label2_kmeans==2], label='2', c='green', s=100, edgecolors='green')\n",
        "plt.scatter(new_df['Kesehatan'][new_df.label2_kmeans==3], new_df['Pendapatan'][new_df.label2_kmeans==3], label='3', c='yellow', s=100, edgecolors='green')\n",
        "\n",
        "plt.scatter(kmeans2.cluster_centers_[:,0], kmeans2.cluster_centers_[:,1], c='k', s=300)\n",
        "plt.xlabel('Kesehatan')\n",
        "plt.ylabel('Pendapatan')\n",
        "plt.legend()\n",
        "plt.show()"
      ],
      "execution_count": 39,
      "outputs": [
        {
          "output_type": "display_data",
          "data": {
            "image/png": "[encoded data removed]",
            "text/plain": [
              "<Figure size 864x576 with 1 Axes>"
            ]
          },
          "metadata": {
            "needs_background": "light"
          }
        }
      ]
    },
    {
      "cell_type": "code",
      "metadata": {
        "colab": {
          "base_uri": "https://localhost:8080/"
        },
        "id": "MMvWye-PrSi3",
        "outputId": "7a37a73a-fc30-49f5-8973-7d6ffcb68eed"
      },
      "source": [
        "from sklearn.metrics import silhouette_score\n",
        "\n",
        "print(silhouette_score(df_std, labels= labels1))\n",
        "print(silhouette_score(df_std, labels= labels2))"
      ],
      "execution_count": 40,
      "outputs": [
        {
          "output_type": "stream",
          "name": "stdout",
          "text": [
            "0.45672849084282163\n",
            "0.4544762214325836\n"
          ]
        }
      ]
    },
    {
      "cell_type": "markdown",
      "metadata": {
        "id": "75d0gLvlBULL"
      },
      "source": [
        "Inverse Transform"
      ]
    },
    {
      "cell_type": "code",
      "metadata": {
        "colab": {
          "base_uri": "https://localhost:8080/"
        },
        "id": "2JjXG5b4BUzc",
        "outputId": "ba179789-c946-414f-a24b-558f7e6a6054"
      },
      "source": [
        "from sklearn.cluster import KMeans\n",
        "kmeansa = KMeans(n_clusters = 2, random_state=42)\n",
        "kmeansa.fit(sc.inverse_transform(df_std))\n",
        "labelsa = kmeansa.labels_\n",
        "labelsa"
      ],
      "execution_count": 29,
      "outputs": [
        {
          "output_type": "execute_result",
          "data": {
            "text/plain": [
              "array([0, 0, 0, 0, 0, 0, 0, 1, 1, 0, 1, 1, 0, 0, 0, 1, 0, 0, 0, 0, 0, 0,\n",
              "       0, 0, 0, 0, 0, 0, 1, 0, 0, 0, 0, 0, 0, 0, 0, 0, 0, 0, 0, 1, 1, 1,\n",
              "       0, 0, 0, 0, 1, 0, 1, 0, 1, 1, 0, 0, 0, 1, 0, 1, 0, 0, 0, 0, 0, 0,\n",
              "       1, 1, 0, 0, 0, 0, 1, 1, 1, 0, 1, 0, 0, 0, 0, 0, 0, 0, 0, 0, 0, 1,\n",
              "       0, 0, 0, 0, 0, 0, 0, 1, 0, 0, 0, 0, 0, 0, 0, 0, 0, 0, 1, 1, 0, 0,\n",
              "       1, 0, 0, 0, 0, 0, 1, 1, 0, 1, 0, 0, 1, 0, 0, 0, 0, 1, 1, 0, 0, 1,\n",
              "       1, 0, 0, 0, 0, 1, 0, 0, 0, 0, 0, 0, 0, 0, 0, 0, 0, 1, 0, 0, 0, 0,\n",
              "       0, 0, 0], dtype=int32)"
            ]
          },
          "metadata": {},
          "execution_count": 29
        }
      ]
    },
    {
      "cell_type": "code",
      "metadata": {
        "colab": {
          "base_uri": "https://localhost:8080/"
        },
        "id": "UjHls5GGBe0y",
        "outputId": "6ec40fa8-fce0-489c-c02f-30b1d3d5d9d6"
      },
      "source": [
        "kmeansb = KMeans(n_clusters = 4, init='k-means++', random_state=42)\n",
        "kmeansb = kmeansb.fit(df_std)\n",
        "labelsb = kmeansb.labels_\n",
        "labelsb"
      ],
      "execution_count": 30,
      "outputs": [
        {
          "output_type": "execute_result",
          "data": {
            "text/plain": [
              "array([2, 1, 1, 1, 0, 0, 1, 3, 3, 0, 0, 0, 1, 2, 0, 3, 1, 1, 1, 1, 2, 2,\n",
              "       2, 0, 1, 2, 1, 1, 3, 1, 1, 1, 0, 1, 2, 1, 2, 1, 2, 1, 0, 0, 0, 3,\n",
              "       1, 2, 1, 1, 0, 1, 0, 1, 3, 3, 1, 1, 2, 3, 1, 3, 1, 1, 1, 2, 1, 1,\n",
              "       0, 3, 1, 1, 0, 2, 3, 0, 3, 1, 3, 2, 0, 1, 2, 1, 1, 0, 0, 2, 2, 0,\n",
              "       0, 2, 1, 1, 0, 1, 1, 3, 1, 0, 2, 1, 2, 1, 1, 1, 1, 1, 3, 3, 1, 1,\n",
              "       0, 1, 2, 1, 1, 1, 0, 3, 0, 0, 2, 1, 0, 1, 2, 0, 2, 3, 3, 2, 2, 0,\n",
              "       3, 1, 1, 1, 0, 3, 1, 1, 1, 2, 2, 1, 1, 0, 1, 2, 2, 3, 2, 1, 1, 0,\n",
              "       1, 1, 1], dtype=int32)"
            ]
          },
          "metadata": {},
          "execution_count": 30
        }
      ]
    },
    {
      "cell_type": "code",
      "metadata": {
        "colab": {
          "base_uri": "https://localhost:8080/",
          "height": 419
        },
        "id": "a4L8_oLcBiRk",
        "outputId": "f09cc9c3-dfa9-4575-893c-a36af5dc90ab"
      },
      "source": [
        "new_df1 = pd.DataFrame(data=sc.inverse_transform(df_std), columns=['Kesehatan', 'Pendapatan'])\n",
        "new_df1['label1_kmeans'] = labelsa\n",
        "new_df1['label2_kmeans'] = labelsb\n",
        "new_df1"
      ],
      "execution_count": 41,
      "outputs": [
        {
          "output_type": "execute_result",
          "data": {
            "text/html": [
              "<div>\n",
              "<style scoped>\n",
              "    .dataframe tbody tr th:only-of-type {\n",
              "        vertical-align: middle;\n",
              "    }\n",
              "\n",
              "    .dataframe tbody tr th {\n",
              "        vertical-align: top;\n",
              "    }\n",
              "\n",
              "    .dataframe thead th {\n",
              "        text-align: right;\n",
              "    }\n",
              "</style>\n",
              "<table border=\"1\" class=\"dataframe\">\n",
              "  <thead>\n",
              "    <tr style=\"text-align: right;\">\n",
              "      <th></th>\n",
              "      <th>Kesehatan</th>\n",
              "      <th>Pendapatan</th>\n",
              "      <th>label1_kmeans</th>\n",
              "      <th>label2_kmeans</th>\n",
              "    </tr>\n",
              "  </thead>\n",
              "  <tbody>\n",
              "    <tr>\n",
              "      <th>0</th>\n",
              "      <td>7.58</td>\n",
              "      <td>1610.0</td>\n",
              "      <td>0</td>\n",
              "      <td>2</td>\n",
              "    </tr>\n",
              "    <tr>\n",
              "      <th>1</th>\n",
              "      <td>6.55</td>\n",
              "      <td>9930.0</td>\n",
              "      <td>0</td>\n",
              "      <td>1</td>\n",
              "    </tr>\n",
              "    <tr>\n",
              "      <th>2</th>\n",
              "      <td>4.17</td>\n",
              "      <td>12900.0</td>\n",
              "      <td>0</td>\n",
              "      <td>1</td>\n",
              "    </tr>\n",
              "    <tr>\n",
              "      <th>3</th>\n",
              "      <td>2.85</td>\n",
              "      <td>5900.0</td>\n",
              "      <td>0</td>\n",
              "      <td>1</td>\n",
              "    </tr>\n",
              "    <tr>\n",
              "      <th>4</th>\n",
              "      <td>6.03</td>\n",
              "      <td>19100.0</td>\n",
              "      <td>0</td>\n",
              "      <td>0</td>\n",
              "    </tr>\n",
              "    <tr>\n",
              "      <th>...</th>\n",
              "      <td>...</td>\n",
              "      <td>...</td>\n",
              "      <td>...</td>\n",
              "      <td>...</td>\n",
              "    </tr>\n",
              "    <tr>\n",
              "      <th>152</th>\n",
              "      <td>5.25</td>\n",
              "      <td>2950.0</td>\n",
              "      <td>0</td>\n",
              "      <td>1</td>\n",
              "    </tr>\n",
              "    <tr>\n",
              "      <th>153</th>\n",
              "      <td>4.91</td>\n",
              "      <td>16500.0</td>\n",
              "      <td>0</td>\n",
              "      <td>0</td>\n",
              "    </tr>\n",
              "    <tr>\n",
              "      <th>154</th>\n",
              "      <td>6.84</td>\n",
              "      <td>4490.0</td>\n",
              "      <td>0</td>\n",
              "      <td>1</td>\n",
              "    </tr>\n",
              "    <tr>\n",
              "      <th>155</th>\n",
              "      <td>5.18</td>\n",
              "      <td>4480.0</td>\n",
              "      <td>0</td>\n",
              "      <td>1</td>\n",
              "    </tr>\n",
              "    <tr>\n",
              "      <th>156</th>\n",
              "      <td>5.89</td>\n",
              "      <td>3280.0</td>\n",
              "      <td>0</td>\n",
              "      <td>1</td>\n",
              "    </tr>\n",
              "  </tbody>\n",
              "</table>\n",
              "<p>157 rows × 4 columns</p>\n",
              "</div>"
            ],
            "text/plain": [
              "     Kesehatan  Pendapatan  label1_kmeans  label2_kmeans\n",
              "0         7.58      1610.0              0              2\n",
              "1         6.55      9930.0              0              1\n",
              "2         4.17     12900.0              0              1\n",
              "3         2.85      5900.0              0              1\n",
              "4         6.03     19100.0              0              0\n",
              "..         ...         ...            ...            ...\n",
              "152       5.25      2950.0              0              1\n",
              "153       4.91     16500.0              0              0\n",
              "154       6.84      4490.0              0              1\n",
              "155       5.18      4480.0              0              1\n",
              "156       5.89      3280.0              0              1\n",
              "\n",
              "[157 rows x 4 columns]"
            ]
          },
          "metadata": {},
          "execution_count": 41
        }
      ]
    },
    {
      "cell_type": "code",
      "metadata": {
        "colab": {
          "base_uri": "https://localhost:8080/",
          "height": 530
        },
        "id": "VuGhFxaJBlI9",
        "outputId": "68265092-120b-4e85-e6d1-46c3410835c1"
      },
      "source": [
        "plt.figure(figsize=(12,8))\n",
        "\n",
        "plt.scatter(new_df1['Kesehatan'][new_df1.label1_kmeans == 0], new_df1['Pendapatan'][new_df1.label1_kmeans == 0], c='blue', s=100, edgecolor='green')\n",
        "plt.scatter(new_df1['Kesehatan'][new_df1.label1_kmeans == 1], new_df1['Pendapatan'][new_df1.label1_kmeans == 1], c='red', s=100, edgecolor='green')\n",
        "\n",
        "plt.scatter(kmeansa.cluster_centers_[:, 0],kmeansa.cluster_centers_[:, 1], c='k', s=300 )\n",
        "plt.legend()\n",
        "plt.title('Kluster Negara Yang Membutuhkan Bantuan')\n",
        "plt.xlabel('Kesehatan')\n",
        "plt.ylabel('Pendapatan')\n",
        "plt.show()"
      ],
      "execution_count": 42,
      "outputs": [
        {
          "output_type": "stream",
          "name": "stderr",
          "text": [
            "No handles with labels found to put in legend.\n"
          ]
        },
        {
          "output_type": "display_data",
          "data": {
            "image/png": "[encoded data removed]",
            "text/plain": [
              "<Figure size 864x576 with 1 Axes>"
            ]
          },
          "metadata": {
            "needs_background": "light"
          }
        }
      ]
    },
    {
      "cell_type": "code",
      "metadata": {
        "colab": {
          "base_uri": "https://localhost:8080/",
          "height": 513
        },
        "id": "SuF5fNfyBzCN",
        "outputId": "17484a6b-5cdd-4e46-d924-0fd992650f4a"
      },
      "source": [
        "plt.figure(figsize=(12,8))\n",
        "\n",
        "plt.scatter(new_df1['Kesehatan'][new_df1.label2_kmeans == 0], new_df1['Pendapatan'][new_df1.label2_kmeans == 0], c='blue', label='0', s=100, edgecolor='green')\n",
        "plt.scatter(new_df1['Kesehatan'][new_df1.label2_kmeans == 1], new_df1['Pendapatan'][new_df1.label2_kmeans == 1], c='red', label='1', s=100, edgecolor='green')\n",
        "plt.scatter(new_df1['Kesehatan'][new_df1.label2_kmeans == 2], new_df1['Pendapatan'][new_df1.label2_kmeans == 2], c='green',label = '2', s=100, edgecolor='green')\n",
        "plt.scatter(new_df1['Kesehatan'][new_df1.label2_kmeans == 3], new_df1['Pendapatan'][new_df1.label2_kmeans == 3], c='yellow',label = '2', s=100, edgecolor='green')\n",
        "\n",
        "# plt.scatter(kmeansb.cluster_centers_[:, 0],kmeansb.cluster_centers_[:, 1], c='k', s=300 )\n",
        "plt.legend()\n",
        "plt.title('Kluster Negara Yang Membutuhkan Bantuan')\n",
        "plt.xlabel('Kesehatan')\n",
        "plt.ylabel('Pendapatan')\n",
        "plt.show()"
      ],
      "execution_count": 33,
      "outputs": [
        {
          "output_type": "display_data",
          "data": {
            "image/png": "[encoded data removed]",
            "text/plain": [
              "<Figure size 864x576 with 1 Axes>"
            ]
          },
          "metadata": {
            "needs_background": "light"
          }
        }
      ]
    },
    {
      "cell_type": "markdown",
      "metadata": {
        "id": "E4XWjj59bsQv"
      },
      "source": [
        "##**REPORT COUNTRIES**"
      ]
    },
    {
      "cell_type": "code",
      "metadata": {
        "colab": {
          "base_uri": "https://localhost:8080/",
          "height": 436
        },
        "id": "jiN9cs73C9du",
        "outputId": "829b1ffd-3769-4549-a760-d3b9a9cceec9"
      },
      "source": [
        "#summary to main data\n",
        "df3 = pd.merge(df,new_df1, how='outer')\n",
        "\n",
        "df3['label2_kmeans'] = df3['label2_kmeans'].astype('object')\n",
        "df3"
      ],
      "execution_count": 43,
      "outputs": [
        {
          "output_type": "execute_result",
          "data": {
            "text/html": [
              "<div>\n",
              "<style scoped>\n",
              "    .dataframe tbody tr th:only-of-type {\n",
              "        vertical-align: middle;\n",
              "    }\n",
              "\n",
              "    .dataframe tbody tr th {\n",
              "        vertical-align: top;\n",
              "    }\n",
              "\n",
              "    .dataframe thead th {\n",
              "        text-align: right;\n",
              "    }\n",
              "</style>\n",
              "<table border=\"1\" class=\"dataframe\">\n",
              "  <thead>\n",
              "    <tr style=\"text-align: right;\">\n",
              "      <th></th>\n",
              "      <th>Negara</th>\n",
              "      <th>Kematian_anak</th>\n",
              "      <th>Ekspor</th>\n",
              "      <th>Kesehatan</th>\n",
              "      <th>Impor</th>\n",
              "      <th>Pendapatan</th>\n",
              "      <th>Inflasi</th>\n",
              "      <th>Harapan_hidup</th>\n",
              "      <th>Jumlah_fertiliti</th>\n",
              "      <th>GDPperkapita</th>\n",
              "      <th>label1_kmeans</th>\n",
              "      <th>label2_kmeans</th>\n",
              "    </tr>\n",
              "  </thead>\n",
              "  <tbody>\n",
              "    <tr>\n",
              "      <th>0</th>\n",
              "      <td>Afghanistan</td>\n",
              "      <td>90.2</td>\n",
              "      <td>10.0</td>\n",
              "      <td>7.58</td>\n",
              "      <td>44.9</td>\n",
              "      <td>1610.0</td>\n",
              "      <td>9.44</td>\n",
              "      <td>56.2</td>\n",
              "      <td>5.82</td>\n",
              "      <td>553.0</td>\n",
              "      <td>0.0</td>\n",
              "      <td>2</td>\n",
              "    </tr>\n",
              "    <tr>\n",
              "      <th>1</th>\n",
              "      <td>Albania</td>\n",
              "      <td>16.6</td>\n",
              "      <td>28.0</td>\n",
              "      <td>6.55</td>\n",
              "      <td>48.6</td>\n",
              "      <td>9930.0</td>\n",
              "      <td>4.49</td>\n",
              "      <td>76.3</td>\n",
              "      <td>1.65</td>\n",
              "      <td>4090.0</td>\n",
              "      <td>0.0</td>\n",
              "      <td>1</td>\n",
              "    </tr>\n",
              "    <tr>\n",
              "      <th>2</th>\n",
              "      <td>Algeria</td>\n",
              "      <td>27.3</td>\n",
              "      <td>38.4</td>\n",
              "      <td>4.17</td>\n",
              "      <td>31.4</td>\n",
              "      <td>12900.0</td>\n",
              "      <td>16.10</td>\n",
              "      <td>76.5</td>\n",
              "      <td>2.89</td>\n",
              "      <td>4460.0</td>\n",
              "      <td>0.0</td>\n",
              "      <td>1</td>\n",
              "    </tr>\n",
              "    <tr>\n",
              "      <th>3</th>\n",
              "      <td>Angola</td>\n",
              "      <td>119.0</td>\n",
              "      <td>62.3</td>\n",
              "      <td>2.85</td>\n",
              "      <td>42.9</td>\n",
              "      <td>5900.0</td>\n",
              "      <td>22.40</td>\n",
              "      <td>60.1</td>\n",
              "      <td>6.16</td>\n",
              "      <td>3530.0</td>\n",
              "      <td>NaN</td>\n",
              "      <td>NaN</td>\n",
              "    </tr>\n",
              "    <tr>\n",
              "      <th>4</th>\n",
              "      <td>Antigua and Barbuda</td>\n",
              "      <td>10.3</td>\n",
              "      <td>45.5</td>\n",
              "      <td>6.03</td>\n",
              "      <td>58.9</td>\n",
              "      <td>19100.0</td>\n",
              "      <td>1.44</td>\n",
              "      <td>76.8</td>\n",
              "      <td>2.13</td>\n",
              "      <td>12200.0</td>\n",
              "      <td>0.0</td>\n",
              "      <td>0</td>\n",
              "    </tr>\n",
              "    <tr>\n",
              "      <th>...</th>\n",
              "      <td>...</td>\n",
              "      <td>...</td>\n",
              "      <td>...</td>\n",
              "      <td>...</td>\n",
              "      <td>...</td>\n",
              "      <td>...</td>\n",
              "      <td>...</td>\n",
              "      <td>...</td>\n",
              "      <td>...</td>\n",
              "      <td>...</td>\n",
              "      <td>...</td>\n",
              "      <td>...</td>\n",
              "    </tr>\n",
              "    <tr>\n",
              "      <th>175</th>\n",
              "      <td>NaN</td>\n",
              "      <td>NaN</td>\n",
              "      <td>NaN</td>\n",
              "      <td>5.21</td>\n",
              "      <td>NaN</td>\n",
              "      <td>918.0</td>\n",
              "      <td>NaN</td>\n",
              "      <td>NaN</td>\n",
              "      <td>NaN</td>\n",
              "      <td>NaN</td>\n",
              "      <td>0.0</td>\n",
              "      <td>1</td>\n",
              "    </tr>\n",
              "    <tr>\n",
              "      <th>176</th>\n",
              "      <td>NaN</td>\n",
              "      <td>NaN</td>\n",
              "      <td>NaN</td>\n",
              "      <td>1.97</td>\n",
              "      <td>NaN</td>\n",
              "      <td>3720.0</td>\n",
              "      <td>NaN</td>\n",
              "      <td>NaN</td>\n",
              "      <td>NaN</td>\n",
              "      <td>NaN</td>\n",
              "      <td>0.0</td>\n",
              "      <td>1</td>\n",
              "    </tr>\n",
              "    <tr>\n",
              "      <th>177</th>\n",
              "      <td>NaN</td>\n",
              "      <td>NaN</td>\n",
              "      <td>NaN</td>\n",
              "      <td>2.77</td>\n",
              "      <td>NaN</td>\n",
              "      <td>45300.0</td>\n",
              "      <td>NaN</td>\n",
              "      <td>NaN</td>\n",
              "      <td>NaN</td>\n",
              "      <td>NaN</td>\n",
              "      <td>1.0</td>\n",
              "      <td>0</td>\n",
              "    </tr>\n",
              "    <tr>\n",
              "      <th>178</th>\n",
              "      <td>NaN</td>\n",
              "      <td>NaN</td>\n",
              "      <td>NaN</td>\n",
              "      <td>5.87</td>\n",
              "      <td>NaN</td>\n",
              "      <td>7290.0</td>\n",
              "      <td>NaN</td>\n",
              "      <td>NaN</td>\n",
              "      <td>NaN</td>\n",
              "      <td>NaN</td>\n",
              "      <td>0.0</td>\n",
              "      <td>1</td>\n",
              "    </tr>\n",
              "    <tr>\n",
              "      <th>179</th>\n",
              "      <td>NaN</td>\n",
              "      <td>NaN</td>\n",
              "      <td>NaN</td>\n",
              "      <td>3.88</td>\n",
              "      <td>NaN</td>\n",
              "      <td>13500.0</td>\n",
              "      <td>NaN</td>\n",
              "      <td>NaN</td>\n",
              "      <td>NaN</td>\n",
              "      <td>NaN</td>\n",
              "      <td>0.0</td>\n",
              "      <td>1</td>\n",
              "    </tr>\n",
              "  </tbody>\n",
              "</table>\n",
              "<p>180 rows × 12 columns</p>\n",
              "</div>"
            ],
            "text/plain": [
              "                  Negara  Kematian_anak  ...  label1_kmeans  label2_kmeans\n",
              "0            Afghanistan           90.2  ...            0.0              2\n",
              "1                Albania           16.6  ...            0.0              1\n",
              "2                Algeria           27.3  ...            0.0              1\n",
              "3                 Angola          119.0  ...            NaN            NaN\n",
              "4    Antigua and Barbuda           10.3  ...            0.0              0\n",
              "..                   ...            ...  ...            ...            ...\n",
              "175                  NaN            NaN  ...            0.0              1\n",
              "176                  NaN            NaN  ...            0.0              1\n",
              "177                  NaN            NaN  ...            1.0              0\n",
              "178                  NaN            NaN  ...            0.0              1\n",
              "179                  NaN            NaN  ...            0.0              1\n",
              "\n",
              "[180 rows x 12 columns]"
            ]
          },
          "metadata": {},
          "execution_count": 43
        }
      ]
    },
    {
      "cell_type": "code",
      "metadata": {
        "colab": {
          "base_uri": "https://localhost:8080/",
          "height": 419
        },
        "id": "m6smhCwPDOZt",
        "outputId": "c46010ad-44d0-472f-d30a-238571297ee8"
      },
      "source": [
        "kesehatan_rendah = df3[df3['label2_kmeans']==1]\n",
        "kesehatan_rendah"
      ],
      "execution_count": 44,
      "outputs": [
        {
          "output_type": "execute_result",
          "data": {
            "text/html": [
              "<div>\n",
              "<style scoped>\n",
              "    .dataframe tbody tr th:only-of-type {\n",
              "        vertical-align: middle;\n",
              "    }\n",
              "\n",
              "    .dataframe tbody tr th {\n",
              "        vertical-align: top;\n",
              "    }\n",
              "\n",
              "    .dataframe thead th {\n",
              "        text-align: right;\n",
              "    }\n",
              "</style>\n",
              "<table border=\"1\" class=\"dataframe\">\n",
              "  <thead>\n",
              "    <tr style=\"text-align: right;\">\n",
              "      <th></th>\n",
              "      <th>Negara</th>\n",
              "      <th>Kematian_anak</th>\n",
              "      <th>Ekspor</th>\n",
              "      <th>Kesehatan</th>\n",
              "      <th>Impor</th>\n",
              "      <th>Pendapatan</th>\n",
              "      <th>Inflasi</th>\n",
              "      <th>Harapan_hidup</th>\n",
              "      <th>Jumlah_fertiliti</th>\n",
              "      <th>GDPperkapita</th>\n",
              "      <th>label1_kmeans</th>\n",
              "      <th>label2_kmeans</th>\n",
              "    </tr>\n",
              "  </thead>\n",
              "  <tbody>\n",
              "    <tr>\n",
              "      <th>1</th>\n",
              "      <td>Albania</td>\n",
              "      <td>16.6</td>\n",
              "      <td>28.0</td>\n",
              "      <td>6.55</td>\n",
              "      <td>48.6</td>\n",
              "      <td>9930.0</td>\n",
              "      <td>4.490</td>\n",
              "      <td>76.3</td>\n",
              "      <td>1.65</td>\n",
              "      <td>4090.0</td>\n",
              "      <td>0.0</td>\n",
              "      <td>1</td>\n",
              "    </tr>\n",
              "    <tr>\n",
              "      <th>2</th>\n",
              "      <td>Algeria</td>\n",
              "      <td>27.3</td>\n",
              "      <td>38.4</td>\n",
              "      <td>4.17</td>\n",
              "      <td>31.4</td>\n",
              "      <td>12900.0</td>\n",
              "      <td>16.100</td>\n",
              "      <td>76.5</td>\n",
              "      <td>2.89</td>\n",
              "      <td>4460.0</td>\n",
              "      <td>0.0</td>\n",
              "      <td>1</td>\n",
              "    </tr>\n",
              "    <tr>\n",
              "      <th>16</th>\n",
              "      <td>Belize</td>\n",
              "      <td>18.8</td>\n",
              "      <td>58.2</td>\n",
              "      <td>5.20</td>\n",
              "      <td>57.5</td>\n",
              "      <td>7880.0</td>\n",
              "      <td>1.140</td>\n",
              "      <td>71.4</td>\n",
              "      <td>2.71</td>\n",
              "      <td>4340.0</td>\n",
              "      <td>0.0</td>\n",
              "      <td>1</td>\n",
              "    </tr>\n",
              "    <tr>\n",
              "      <th>17</th>\n",
              "      <td>Benin</td>\n",
              "      <td>111.0</td>\n",
              "      <td>23.8</td>\n",
              "      <td>4.10</td>\n",
              "      <td>37.2</td>\n",
              "      <td>1820.0</td>\n",
              "      <td>0.885</td>\n",
              "      <td>61.8</td>\n",
              "      <td>5.36</td>\n",
              "      <td>758.0</td>\n",
              "      <td>0.0</td>\n",
              "      <td>1</td>\n",
              "    </tr>\n",
              "    <tr>\n",
              "      <th>18</th>\n",
              "      <td>Bhutan</td>\n",
              "      <td>42.7</td>\n",
              "      <td>42.5</td>\n",
              "      <td>5.20</td>\n",
              "      <td>70.7</td>\n",
              "      <td>6420.0</td>\n",
              "      <td>5.990</td>\n",
              "      <td>72.1</td>\n",
              "      <td>2.38</td>\n",
              "      <td>2180.0</td>\n",
              "      <td>0.0</td>\n",
              "      <td>1</td>\n",
              "    </tr>\n",
              "    <tr>\n",
              "      <th>...</th>\n",
              "      <td>...</td>\n",
              "      <td>...</td>\n",
              "      <td>...</td>\n",
              "      <td>...</td>\n",
              "      <td>...</td>\n",
              "      <td>...</td>\n",
              "      <td>...</td>\n",
              "      <td>...</td>\n",
              "      <td>...</td>\n",
              "      <td>...</td>\n",
              "      <td>...</td>\n",
              "      <td>...</td>\n",
              "    </tr>\n",
              "    <tr>\n",
              "      <th>174</th>\n",
              "      <td>NaN</td>\n",
              "      <td>NaN</td>\n",
              "      <td>NaN</td>\n",
              "      <td>5.20</td>\n",
              "      <td>NaN</td>\n",
              "      <td>6440.0</td>\n",
              "      <td>NaN</td>\n",
              "      <td>NaN</td>\n",
              "      <td>NaN</td>\n",
              "      <td>NaN</td>\n",
              "      <td>0.0</td>\n",
              "      <td>1</td>\n",
              "    </tr>\n",
              "    <tr>\n",
              "      <th>175</th>\n",
              "      <td>NaN</td>\n",
              "      <td>NaN</td>\n",
              "      <td>NaN</td>\n",
              "      <td>5.21</td>\n",
              "      <td>NaN</td>\n",
              "      <td>918.0</td>\n",
              "      <td>NaN</td>\n",
              "      <td>NaN</td>\n",
              "      <td>NaN</td>\n",
              "      <td>NaN</td>\n",
              "      <td>0.0</td>\n",
              "      <td>1</td>\n",
              "    </tr>\n",
              "    <tr>\n",
              "      <th>176</th>\n",
              "      <td>NaN</td>\n",
              "      <td>NaN</td>\n",
              "      <td>NaN</td>\n",
              "      <td>1.97</td>\n",
              "      <td>NaN</td>\n",
              "      <td>3720.0</td>\n",
              "      <td>NaN</td>\n",
              "      <td>NaN</td>\n",
              "      <td>NaN</td>\n",
              "      <td>NaN</td>\n",
              "      <td>0.0</td>\n",
              "      <td>1</td>\n",
              "    </tr>\n",
              "    <tr>\n",
              "      <th>178</th>\n",
              "      <td>NaN</td>\n",
              "      <td>NaN</td>\n",
              "      <td>NaN</td>\n",
              "      <td>5.87</td>\n",
              "      <td>NaN</td>\n",
              "      <td>7290.0</td>\n",
              "      <td>NaN</td>\n",
              "      <td>NaN</td>\n",
              "      <td>NaN</td>\n",
              "      <td>NaN</td>\n",
              "      <td>0.0</td>\n",
              "      <td>1</td>\n",
              "    </tr>\n",
              "    <tr>\n",
              "      <th>179</th>\n",
              "      <td>NaN</td>\n",
              "      <td>NaN</td>\n",
              "      <td>NaN</td>\n",
              "      <td>3.88</td>\n",
              "      <td>NaN</td>\n",
              "      <td>13500.0</td>\n",
              "      <td>NaN</td>\n",
              "      <td>NaN</td>\n",
              "      <td>NaN</td>\n",
              "      <td>NaN</td>\n",
              "      <td>0.0</td>\n",
              "      <td>1</td>\n",
              "    </tr>\n",
              "  </tbody>\n",
              "</table>\n",
              "<p>71 rows × 12 columns</p>\n",
              "</div>"
            ],
            "text/plain": [
              "      Negara  Kematian_anak  Ekspor  ...  GDPperkapita  label1_kmeans  label2_kmeans\n",
              "1    Albania           16.6    28.0  ...        4090.0            0.0              1\n",
              "2    Algeria           27.3    38.4  ...        4460.0            0.0              1\n",
              "16    Belize           18.8    58.2  ...        4340.0            0.0              1\n",
              "17     Benin          111.0    23.8  ...         758.0            0.0              1\n",
              "18    Bhutan           42.7    42.5  ...        2180.0            0.0              1\n",
              "..       ...            ...     ...  ...           ...            ...            ...\n",
              "174      NaN            NaN     NaN  ...           NaN            0.0              1\n",
              "175      NaN            NaN     NaN  ...           NaN            0.0              1\n",
              "176      NaN            NaN     NaN  ...           NaN            0.0              1\n",
              "178      NaN            NaN     NaN  ...           NaN            0.0              1\n",
              "179      NaN            NaN     NaN  ...           NaN            0.0              1\n",
              "\n",
              "[71 rows x 12 columns]"
            ]
          },
          "metadata": {},
          "execution_count": 44
        }
      ]
    },
    {
      "cell_type": "code",
      "metadata": {
        "colab": {
          "base_uri": "https://localhost:8080/",
          "height": 359
        },
        "id": "AoiJuo3gGFts",
        "outputId": "10235e5d-bd0a-4a1c-fe3f-6c8617a4aaed"
      },
      "source": [
        "candidate = kesehatan_rendah.sort_values(by=['Kesehatan'],ascending=True)[:10]\n",
        "display(candidate)"
      ],
      "execution_count": 45,
      "outputs": [
        {
          "output_type": "display_data",
          "data": {
            "text/html": [
              "<div>\n",
              "<style scoped>\n",
              "    .dataframe tbody tr th:only-of-type {\n",
              "        vertical-align: middle;\n",
              "    }\n",
              "\n",
              "    .dataframe tbody tr th {\n",
              "        vertical-align: top;\n",
              "    }\n",
              "\n",
              "    .dataframe thead th {\n",
              "        text-align: right;\n",
              "    }\n",
              "</style>\n",
              "<table border=\"1\" class=\"dataframe\">\n",
              "  <thead>\n",
              "    <tr style=\"text-align: right;\">\n",
              "      <th></th>\n",
              "      <th>Negara</th>\n",
              "      <th>Kematian_anak</th>\n",
              "      <th>Ekspor</th>\n",
              "      <th>Kesehatan</th>\n",
              "      <th>Impor</th>\n",
              "      <th>Pendapatan</th>\n",
              "      <th>Inflasi</th>\n",
              "      <th>Harapan_hidup</th>\n",
              "      <th>Jumlah_fertiliti</th>\n",
              "      <th>GDPperkapita</th>\n",
              "      <th>label1_kmeans</th>\n",
              "      <th>label2_kmeans</th>\n",
              "    </tr>\n",
              "  </thead>\n",
              "  <tbody>\n",
              "    <tr>\n",
              "      <th>176</th>\n",
              "      <td>NaN</td>\n",
              "      <td>NaN</td>\n",
              "      <td>NaN</td>\n",
              "      <td>1.97</td>\n",
              "      <td>NaN</td>\n",
              "      <td>3720.0</td>\n",
              "      <td>NaN</td>\n",
              "      <td>NaN</td>\n",
              "      <td>NaN</td>\n",
              "      <td>NaN</td>\n",
              "      <td>0.0</td>\n",
              "      <td>1</td>\n",
              "    </tr>\n",
              "    <tr>\n",
              "      <th>116</th>\n",
              "      <td>Pakistan</td>\n",
              "      <td>92.1</td>\n",
              "      <td>13.50</td>\n",
              "      <td>2.20</td>\n",
              "      <td>19.4</td>\n",
              "      <td>4280.0</td>\n",
              "      <td>10.90</td>\n",
              "      <td>65.3</td>\n",
              "      <td>3.85</td>\n",
              "      <td>1040.0</td>\n",
              "      <td>0.0</td>\n",
              "      <td>1</td>\n",
              "    </tr>\n",
              "    <tr>\n",
              "      <th>38</th>\n",
              "      <td>Congo, Rep.</td>\n",
              "      <td>63.9</td>\n",
              "      <td>85.10</td>\n",
              "      <td>2.46</td>\n",
              "      <td>54.7</td>\n",
              "      <td>5190.0</td>\n",
              "      <td>20.70</td>\n",
              "      <td>60.4</td>\n",
              "      <td>4.95</td>\n",
              "      <td>2740.0</td>\n",
              "      <td>0.0</td>\n",
              "      <td>1</td>\n",
              "    </tr>\n",
              "    <tr>\n",
              "      <th>154</th>\n",
              "      <td>Turkmenistan</td>\n",
              "      <td>62.0</td>\n",
              "      <td>76.30</td>\n",
              "      <td>2.50</td>\n",
              "      <td>44.5</td>\n",
              "      <td>9940.0</td>\n",
              "      <td>2.31</td>\n",
              "      <td>67.9</td>\n",
              "      <td>2.83</td>\n",
              "      <td>4440.0</td>\n",
              "      <td>0.0</td>\n",
              "      <td>1</td>\n",
              "    </tr>\n",
              "    <tr>\n",
              "      <th>172</th>\n",
              "      <td>NaN</td>\n",
              "      <td>NaN</td>\n",
              "      <td>NaN</td>\n",
              "      <td>2.61</td>\n",
              "      <td>NaN</td>\n",
              "      <td>8430.0</td>\n",
              "      <td>NaN</td>\n",
              "      <td>NaN</td>\n",
              "      <td>NaN</td>\n",
              "      <td>NaN</td>\n",
              "      <td>0.0</td>\n",
              "      <td>1</td>\n",
              "    </tr>\n",
              "    <tr>\n",
              "      <th>50</th>\n",
              "      <td>Eritrea</td>\n",
              "      <td>55.2</td>\n",
              "      <td>4.79</td>\n",
              "      <td>2.66</td>\n",
              "      <td>23.3</td>\n",
              "      <td>1420.0</td>\n",
              "      <td>11.60</td>\n",
              "      <td>61.7</td>\n",
              "      <td>4.61</td>\n",
              "      <td>482.0</td>\n",
              "      <td>0.0</td>\n",
              "      <td>1</td>\n",
              "    </tr>\n",
              "    <tr>\n",
              "      <th>167</th>\n",
              "      <td>NaN</td>\n",
              "      <td>NaN</td>\n",
              "      <td>NaN</td>\n",
              "      <td>2.85</td>\n",
              "      <td>NaN</td>\n",
              "      <td>5900.0</td>\n",
              "      <td>NaN</td>\n",
              "      <td>NaN</td>\n",
              "      <td>NaN</td>\n",
              "      <td>NaN</td>\n",
              "      <td>0.0</td>\n",
              "      <td>1</td>\n",
              "    </tr>\n",
              "    <tr>\n",
              "      <th>140</th>\n",
              "      <td>Sri Lanka</td>\n",
              "      <td>11.2</td>\n",
              "      <td>19.60</td>\n",
              "      <td>2.94</td>\n",
              "      <td>26.8</td>\n",
              "      <td>8560.0</td>\n",
              "      <td>22.80</td>\n",
              "      <td>74.4</td>\n",
              "      <td>2.20</td>\n",
              "      <td>2810.0</td>\n",
              "      <td>0.0</td>\n",
              "      <td>1</td>\n",
              "    </tr>\n",
              "    <tr>\n",
              "      <th>55</th>\n",
              "      <td>Gabon</td>\n",
              "      <td>63.7</td>\n",
              "      <td>57.70</td>\n",
              "      <td>3.50</td>\n",
              "      <td>18.9</td>\n",
              "      <td>15400.0</td>\n",
              "      <td>16.60</td>\n",
              "      <td>62.9</td>\n",
              "      <td>4.08</td>\n",
              "      <td>8750.0</td>\n",
              "      <td>0.0</td>\n",
              "      <td>1</td>\n",
              "    </tr>\n",
              "    <tr>\n",
              "      <th>169</th>\n",
              "      <td>NaN</td>\n",
              "      <td>NaN</td>\n",
              "      <td>NaN</td>\n",
              "      <td>3.52</td>\n",
              "      <td>NaN</td>\n",
              "      <td>2440.0</td>\n",
              "      <td>NaN</td>\n",
              "      <td>NaN</td>\n",
              "      <td>NaN</td>\n",
              "      <td>NaN</td>\n",
              "      <td>0.0</td>\n",
              "      <td>1</td>\n",
              "    </tr>\n",
              "  </tbody>\n",
              "</table>\n",
              "</div>"
            ],
            "text/plain": [
              "           Negara  Kematian_anak  ...  label1_kmeans  label2_kmeans\n",
              "176           NaN            NaN  ...            0.0              1\n",
              "116      Pakistan           92.1  ...            0.0              1\n",
              "38    Congo, Rep.           63.9  ...            0.0              1\n",
              "154  Turkmenistan           62.0  ...            0.0              1\n",
              "172           NaN            NaN  ...            0.0              1\n",
              "50        Eritrea           55.2  ...            0.0              1\n",
              "167           NaN            NaN  ...            0.0              1\n",
              "140     Sri Lanka           11.2  ...            0.0              1\n",
              "55          Gabon           63.7  ...            0.0              1\n",
              "169           NaN            NaN  ...            0.0              1\n",
              "\n",
              "[10 rows x 12 columns]"
            ]
          },
          "metadata": {}
        }
      ]
    },
    {
      "cell_type": "code",
      "metadata": {
        "colab": {
          "base_uri": "https://localhost:8080/",
          "height": 542
        },
        "id": "Cb1NSRCtZUI5",
        "outputId": "a0215b0e-475b-490d-ad79-fa6ef0982baf"
      },
      "source": [
        "px.bar(candidate, x='Negara', y='Kematian_anak', title='Urutan Negara Yang Kesehatannya Rendah Berdasarkan Tingkat Kematian')"
      ],
      "execution_count": 46,
      "outputs": [
        {
          "output_type": "display_data",
          "data": {
            "text/html": [
              "<html>\n",
              "<head><meta charset=\"utf-8\" /></head>\n",
              "<body>\n",
              "    <div>\n",
              "            <script src=\"https://cdnjs.cloudflare.com/ajax/libs/mathjax/2.7.5/MathJax.js?config=TeX-AMS-MML_SVG\"></script><script type=\"text/javascript\">if (window.MathJax) {MathJax.Hub.Config({SVG: {font: \"STIX-Web\"}});}</script>\n",
              "                <script type=\"text/javascript\">window.PlotlyConfig = {MathJaxConfig: 'local'};</script>\n",
              "        <script src=\"https://cdn.plot.ly/plotly-latest.min.js\"></script>    \n",
              "            <div id=\"7f23f892-faf7-455f-b56a-15dda0dc34a1\" class=\"plotly-graph-div\" style=\"height:525px; width:100%;\"></div>\n",
              "            <script type=\"text/javascript\">\n",
              "                \n",
              "                    window.PLOTLYENV=window.PLOTLYENV || {};\n",
              "                    \n",
              "                if (document.getElementById(\"7f23f892-faf7-455f-b56a-15dda0dc34a1\")) {\n",
              "                    Plotly.newPlot(\n",
              "                        '7f23f892-faf7-455f-b56a-15dda0dc34a1',\n",
              "                        [{\"alignmentgroup\": \"True\", \"hoverlabel\": {\"namelength\": 0}, \"hovertemplate\": \"Negara=%{x}<br>Kematian_anak=%{y}\", \"legendgroup\": \"\", \"marker\": {\"color\": \"#636efa\"}, \"name\": \"\", \"offsetgroup\": \"\", \"orientation\": \"v\", \"showlegend\": false, \"textposition\": \"auto\", \"type\": \"bar\", \"x\": [null, \"Pakistan\", \"Congo, Rep.\", \"Turkmenistan\", null, \"Eritrea\", null, \"Sri Lanka\", \"Gabon\", null], \"xaxis\": \"x\", \"y\": [null, 92.1, 63.9, 62.0, null, 55.2, null, 11.2, 63.7, null], \"yaxis\": \"y\"}],\n",
              "                        {\"barmode\": \"relative\", \"legend\": {\"tracegroupgap\": 0}, \"template\": {\"data\": {\"bar\": [{\"error_x\": {\"color\": \"#2a3f5f\"}, \"error_y\": {\"color\": \"#2a3f5f\"}, \"marker\": {\"line\": {\"color\": \"#E5ECF6\", \"width\": 0.5}}, \"type\": \"bar\"}], \"barpolar\": [{\"marker\": {\"line\": {\"color\": \"#E5ECF6\", \"width\": 0.5}}, \"type\": \"barpolar\"}], \"carpet\": [{\"aaxis\": {\"endlinecolor\": \"#2a3f5f\", \"gridcolor\": \"white\", \"linecolor\": \"white\", \"minorgridcolor\": \"white\", \"startlinecolor\": \"#2a3f5f\"}, \"baxis\": {\"endlinecolor\": \"#2a3f5f\", \"gridcolor\": \"white\", \"linecolor\": \"white\", \"minorgridcolor\": \"white\", \"startlinecolor\": \"#2a3f5f\"}, \"type\": \"carpet\"}], \"choropleth\": [{\"colorbar\": {\"outlinewidth\": 0, \"ticks\": \"\"}, \"type\": \"choropleth\"}], \"contour\": [{\"colorbar\": {\"outlinewidth\": 0, \"ticks\": \"\"}, \"colorscale\": [[0.0, \"#0d0887\"], [0.1111111111111111, \"#46039f\"], [0.2222222222222222, \"#7201a8\"], [0.3333333333333333, \"#9c179e\"], [0.4444444444444444, \"#bd3786\"], [0.5555555555555556, \"#d8576b\"], [0.6666666666666666, \"#ed7953\"], [0.7777777777777778, \"#fb9f3a\"], [0.8888888888888888, \"#fdca26\"], [1.0, \"#f0f921\"]], \"type\": \"contour\"}], \"contourcarpet\": [{\"colorbar\": {\"outlinewidth\": 0, \"ticks\": \"\"}, \"type\": \"contourcarpet\"}], \"heatmap\": [{\"colorbar\": {\"outlinewidth\": 0, \"ticks\": \"\"}, \"colorscale\": [[0.0, \"#0d0887\"], [0.1111111111111111, \"#46039f\"], [0.2222222222222222, \"#7201a8\"], [0.3333333333333333, \"#9c179e\"], [0.4444444444444444, \"#bd3786\"], [0.5555555555555556, \"#d8576b\"], [0.6666666666666666, \"#ed7953\"], [0.7777777777777778, \"#fb9f3a\"], [0.8888888888888888, \"#fdca26\"], [1.0, \"#f0f921\"]], \"type\": \"heatmap\"}], \"heatmapgl\": [{\"colorbar\": {\"outlinewidth\": 0, \"ticks\": \"\"}, \"colorscale\": [[0.0, \"#0d0887\"], [0.1111111111111111, \"#46039f\"], [0.2222222222222222, \"#7201a8\"], [0.3333333333333333, \"#9c179e\"], [0.4444444444444444, \"#bd3786\"], [0.5555555555555556, \"#d8576b\"], [0.6666666666666666, \"#ed7953\"], [0.7777777777777778, \"#fb9f3a\"], [0.8888888888888888, \"#fdca26\"], [1.0, \"#f0f921\"]], \"type\": \"heatmapgl\"}], \"histogram\": [{\"marker\": {\"colorbar\": {\"outlinewidth\": 0, \"ticks\": \"\"}}, \"type\": \"histogram\"}], \"histogram2d\": [{\"colorbar\": {\"outlinewidth\": 0, \"ticks\": \"\"}, \"colorscale\": [[0.0, \"#0d0887\"], [0.1111111111111111, \"#46039f\"], [0.2222222222222222, \"#7201a8\"], [0.3333333333333333, \"#9c179e\"], [0.4444444444444444, \"#bd3786\"], [0.5555555555555556, \"#d8576b\"], [0.6666666666666666, \"#ed7953\"], [0.7777777777777778, \"#fb9f3a\"], [0.8888888888888888, \"#fdca26\"], [1.0, \"#f0f921\"]], \"type\": \"histogram2d\"}], \"histogram2dcontour\": [{\"colorbar\": {\"outlinewidth\": 0, \"ticks\": \"\"}, \"colorscale\": [[0.0, \"#0d0887\"], [0.1111111111111111, \"#46039f\"], [0.2222222222222222, \"#7201a8\"], [0.3333333333333333, \"#9c179e\"], [0.4444444444444444, \"#bd3786\"], [0.5555555555555556, \"#d8576b\"], [0.6666666666666666, \"#ed7953\"], [0.7777777777777778, \"#fb9f3a\"], [0.8888888888888888, \"#fdca26\"], [1.0, \"#f0f921\"]], \"type\": \"histogram2dcontour\"}], \"mesh3d\": [{\"colorbar\": {\"outlinewidth\": 0, \"ticks\": \"\"}, \"type\": \"mesh3d\"}], \"parcoords\": [{\"line\": {\"colorbar\": {\"outlinewidth\": 0, \"ticks\": \"\"}}, \"type\": \"parcoords\"}], \"pie\": [{\"automargin\": true, \"type\": \"pie\"}], \"scatter\": [{\"marker\": {\"colorbar\": {\"outlinewidth\": 0, \"ticks\": \"\"}}, \"type\": \"scatter\"}], \"scatter3d\": [{\"line\": {\"colorbar\": {\"outlinewidth\": 0, \"ticks\": \"\"}}, \"marker\": {\"colorbar\": {\"outlinewidth\": 0, \"ticks\": \"\"}}, \"type\": \"scatter3d\"}], \"scattercarpet\": [{\"marker\": {\"colorbar\": {\"outlinewidth\": 0, \"ticks\": \"\"}}, \"type\": \"scattercarpet\"}], \"scattergeo\": [{\"marker\": {\"colorbar\": {\"outlinewidth\": 0, \"ticks\": \"\"}}, \"type\": \"scattergeo\"}], \"scattergl\": [{\"marker\": {\"colorbar\": {\"outlinewidth\": 0, \"ticks\": \"\"}}, \"type\": \"scattergl\"}], \"scattermapbox\": [{\"marker\": {\"colorbar\": {\"outlinewidth\": 0, \"ticks\": \"\"}}, \"type\": \"scattermapbox\"}], \"scatterpolar\": [{\"marker\": {\"colorbar\": {\"outlinewidth\": 0, \"ticks\": \"\"}}, \"type\": \"scatterpolar\"}], \"scatterpolargl\": [{\"marker\": {\"colorbar\": {\"outlinewidth\": 0, \"ticks\": \"\"}}, \"type\": \"scatterpolargl\"}], \"scatterternary\": [{\"marker\": {\"colorbar\": {\"outlinewidth\": 0, \"ticks\": \"\"}}, \"type\": \"scatterternary\"}], \"surface\": [{\"colorbar\": {\"outlinewidth\": 0, \"ticks\": \"\"}, \"colorscale\": [[0.0, \"#0d0887\"], [0.1111111111111111, \"#46039f\"], [0.2222222222222222, \"#7201a8\"], [0.3333333333333333, \"#9c179e\"], [0.4444444444444444, \"#bd3786\"], [0.5555555555555556, \"#d8576b\"], [0.6666666666666666, \"#ed7953\"], [0.7777777777777778, \"#fb9f3a\"], [0.8888888888888888, \"#fdca26\"], [1.0, \"#f0f921\"]], \"type\": \"surface\"}], \"table\": [{\"cells\": {\"fill\": {\"color\": \"#EBF0F8\"}, \"line\": {\"color\": \"white\"}}, \"header\": {\"fill\": {\"color\": \"#C8D4E3\"}, \"line\": {\"color\": \"white\"}}, \"type\": \"table\"}]}, \"layout\": {\"annotationdefaults\": {\"arrowcolor\": \"#2a3f5f\", \"arrowhead\": 0, \"arrowwidth\": 1}, \"coloraxis\": {\"colorbar\": {\"outlinewidth\": 0, \"ticks\": \"\"}}, \"colorscale\": {\"diverging\": [[0, \"#8e0152\"], [0.1, \"#c51b7d\"], [0.2, \"#de77ae\"], [0.3, \"#f1b6da\"], [0.4, \"#fde0ef\"], [0.5, \"#f7f7f7\"], [0.6, \"#e6f5d0\"], [0.7, \"#b8e186\"], [0.8, \"#7fbc41\"], [0.9, \"#4d9221\"], [1, \"#276419\"]], \"sequential\": [[0.0, \"#0d0887\"], [0.1111111111111111, \"#46039f\"], [0.2222222222222222, \"#7201a8\"], [0.3333333333333333, \"#9c179e\"], [0.4444444444444444, \"#bd3786\"], [0.5555555555555556, \"#d8576b\"], [0.6666666666666666, \"#ed7953\"], [0.7777777777777778, \"#fb9f3a\"], [0.8888888888888888, \"#fdca26\"], [1.0, \"#f0f921\"]], \"sequentialminus\": [[0.0, \"#0d0887\"], [0.1111111111111111, \"#46039f\"], [0.2222222222222222, \"#7201a8\"], [0.3333333333333333, \"#9c179e\"], [0.4444444444444444, \"#bd3786\"], [0.5555555555555556, \"#d8576b\"], [0.6666666666666666, \"#ed7953\"], [0.7777777777777778, \"#fb9f3a\"], [0.8888888888888888, \"#fdca26\"], [1.0, \"#f0f921\"]]}, \"colorway\": [\"#636efa\", \"#EF553B\", \"#00cc96\", \"#ab63fa\", \"#FFA15A\", \"#19d3f3\", \"#FF6692\", \"#B6E880\", \"#FF97FF\", \"#FECB52\"], \"font\": {\"color\": \"#2a3f5f\"}, \"geo\": {\"bgcolor\": \"white\", \"lakecolor\": \"white\", \"landcolor\": \"#E5ECF6\", \"showlakes\": true, \"showland\": true, \"subunitcolor\": \"white\"}, \"hoverlabel\": {\"align\": \"left\"}, \"hovermode\": \"closest\", \"mapbox\": {\"style\": \"light\"}, \"paper_bgcolor\": \"white\", \"plot_bgcolor\": \"#E5ECF6\", \"polar\": {\"angularaxis\": {\"gridcolor\": \"white\", \"linecolor\": \"white\", \"ticks\": \"\"}, \"bgcolor\": \"#E5ECF6\", \"radialaxis\": {\"gridcolor\": \"white\", \"linecolor\": \"white\", \"ticks\": \"\"}}, \"scene\": {\"xaxis\": {\"backgroundcolor\": \"#E5ECF6\", \"gridcolor\": \"white\", \"gridwidth\": 2, \"linecolor\": \"white\", \"showbackground\": true, \"ticks\": \"\", \"zerolinecolor\": \"white\"}, \"yaxis\": {\"backgroundcolor\": \"#E5ECF6\", \"gridcolor\": \"white\", \"gridwidth\": 2, \"linecolor\": \"white\", \"showbackground\": true, \"ticks\": \"\", \"zerolinecolor\": \"white\"}, \"zaxis\": {\"backgroundcolor\": \"#E5ECF6\", \"gridcolor\": \"white\", \"gridwidth\": 2, \"linecolor\": \"white\", \"showbackground\": true, \"ticks\": \"\", \"zerolinecolor\": \"white\"}}, \"shapedefaults\": {\"line\": {\"color\": \"#2a3f5f\"}}, \"ternary\": {\"aaxis\": {\"gridcolor\": \"white\", \"linecolor\": \"white\", \"ticks\": \"\"}, \"baxis\": {\"gridcolor\": \"white\", \"linecolor\": \"white\", \"ticks\": \"\"}, \"bgcolor\": \"#E5ECF6\", \"caxis\": {\"gridcolor\": \"white\", \"linecolor\": \"white\", \"ticks\": \"\"}}, \"title\": {\"x\": 0.05}, \"xaxis\": {\"automargin\": true, \"gridcolor\": \"white\", \"linecolor\": \"white\", \"ticks\": \"\", \"title\": {\"standoff\": 15}, \"zerolinecolor\": \"white\", \"zerolinewidth\": 2}, \"yaxis\": {\"automargin\": true, \"gridcolor\": \"white\", \"linecolor\": \"white\", \"ticks\": \"\", \"title\": {\"standoff\": 15}, \"zerolinecolor\": \"white\", \"zerolinewidth\": 2}}}, \"title\": {\"text\": \"Urutan Negara Yang Kesehatannya Rendah Berdasarkan Tingkat Kematian\"}, \"xaxis\": {\"anchor\": \"y\", \"domain\": [0.0, 1.0], \"title\": {\"text\": \"Negara\"}}, \"yaxis\": {\"anchor\": \"x\", \"domain\": [0.0, 1.0], \"title\": {\"text\": \"Kematian_anak\"}}},\n",
              "                        {\"responsive\": true}\n",
              "                    ).then(function(){\n",
              "                            \n",
              "var gd = document.getElementById('7f23f892-faf7-455f-b56a-15dda0dc34a1');\n",
              "var x = new MutationObserver(function (mutations, observer) {{\n",
              "        var display = window.getComputedStyle(gd).display;\n",
              "        if (!display || display === 'none') {{\n",
              "            console.log([gd, 'removed!']);\n",
              "            Plotly.purge(gd);\n",
              "            observer.disconnect();\n",
              "        }}\n",
              "}});\n",
              "\n",
              "// Listen for the removal of the full notebook cells\n",
              "var notebookContainer = gd.closest('#notebook-container');\n",
              "if (notebookContainer) {{\n",
              "    x.observe(notebookContainer, {childList: true});\n",
              "}}\n",
              "\n",
              "// Listen for the clearing of the current output cell\n",
              "var outputEl = gd.closest('.output');\n",
              "if (outputEl) {{\n",
              "    x.observe(outputEl, {childList: true});\n",
              "}}\n",
              "\n",
              "                        })\n",
              "                };\n",
              "                \n",
              "            </script>\n",
              "        </div>\n",
              "</body>\n",
              "</html>"
            ]
          },
          "metadata": {}
        }
      ]
    },
    {
      "cell_type": "code",
      "metadata": {
        "colab": {
          "base_uri": "https://localhost:8080/",
          "height": 542
        },
        "id": "iJVTrQa9Y-mN",
        "outputId": "0a14d164-09cc-4077-f844-71eb41e398e5"
      },
      "source": [
        "px.bar(candidate, x='Negara', y='GDPperkapita', title='Urutan Negara Yang Kesehatannya Rendah Berdasarkan GDP Perkapita')"
      ],
      "execution_count": 47,
      "outputs": [
        {
          "output_type": "display_data",
          "data": {
            "text/html": [
              "<html>\n",
              "<head><meta charset=\"utf-8\" /></head>\n",
              "<body>\n",
              "    <div>\n",
              "            <script src=\"https://cdnjs.cloudflare.com/ajax/libs/mathjax/2.7.5/MathJax.js?config=TeX-AMS-MML_SVG\"></script><script type=\"text/javascript\">if (window.MathJax) {MathJax.Hub.Config({SVG: {font: \"STIX-Web\"}});}</script>\n",
              "                <script type=\"text/javascript\">window.PlotlyConfig = {MathJaxConfig: 'local'};</script>\n",
              "        <script src=\"https://cdn.plot.ly/plotly-latest.min.js\"></script>    \n",
              "            <div id=\"6ceeb9d8-87d8-43d9-b602-5e368c42ca96\" class=\"plotly-graph-div\" style=\"height:525px; width:100%;\"></div>\n",
              "            <script type=\"text/javascript\">\n",
              "                \n",
              "                    window.PLOTLYENV=window.PLOTLYENV || {};\n",
              "                    \n",
              "                if (document.getElementById(\"6ceeb9d8-87d8-43d9-b602-5e368c42ca96\")) {\n",
              "                    Plotly.newPlot(\n",
              "                        '6ceeb9d8-87d8-43d9-b602-5e368c42ca96',\n",
              "                        [{\"alignmentgroup\": \"True\", \"hoverlabel\": {\"namelength\": 0}, \"hovertemplate\": \"Negara=%{x}<br>GDPperkapita=%{y}\", \"legendgroup\": \"\", \"marker\": {\"color\": \"#636efa\"}, \"name\": \"\", \"offsetgroup\": \"\", \"orientation\": \"v\", \"showlegend\": false, \"textposition\": \"auto\", \"type\": \"bar\", \"x\": [null, \"Pakistan\", \"Congo, Rep.\", \"Turkmenistan\", null, \"Eritrea\", null, \"Sri Lanka\", \"Gabon\", null], \"xaxis\": \"x\", \"y\": [null, 1040.0, 2740.0, 4440.0, null, 482.0, null, 2810.0, 8750.0, null], \"yaxis\": \"y\"}],\n",
              "                        {\"barmode\": \"relative\", \"legend\": {\"tracegroupgap\": 0}, \"template\": {\"data\": {\"bar\": [{\"error_x\": {\"color\": \"#2a3f5f\"}, \"error_y\": {\"color\": \"#2a3f5f\"}, \"marker\": {\"line\": {\"color\": \"#E5ECF6\", \"width\": 0.5}}, \"type\": \"bar\"}], \"barpolar\": [{\"marker\": {\"line\": {\"color\": \"#E5ECF6\", \"width\": 0.5}}, \"type\": \"barpolar\"}], \"carpet\": [{\"aaxis\": {\"endlinecolor\": \"#2a3f5f\", \"gridcolor\": \"white\", \"linecolor\": \"white\", \"minorgridcolor\": \"white\", \"startlinecolor\": \"#2a3f5f\"}, \"baxis\": {\"endlinecolor\": \"#2a3f5f\", \"gridcolor\": \"white\", \"linecolor\": \"white\", \"minorgridcolor\": \"white\", \"startlinecolor\": \"#2a3f5f\"}, \"type\": \"carpet\"}], \"choropleth\": [{\"colorbar\": {\"outlinewidth\": 0, \"ticks\": \"\"}, \"type\": \"choropleth\"}], \"contour\": [{\"colorbar\": {\"outlinewidth\": 0, \"ticks\": \"\"}, \"colorscale\": [[0.0, \"#0d0887\"], [0.1111111111111111, \"#46039f\"], [0.2222222222222222, \"#7201a8\"], [0.3333333333333333, \"#9c179e\"], [0.4444444444444444, \"#bd3786\"], [0.5555555555555556, \"#d8576b\"], [0.6666666666666666, \"#ed7953\"], [0.7777777777777778, \"#fb9f3a\"], [0.8888888888888888, \"#fdca26\"], [1.0, \"#f0f921\"]], \"type\": \"contour\"}], \"contourcarpet\": [{\"colorbar\": {\"outlinewidth\": 0, \"ticks\": \"\"}, \"type\": \"contourcarpet\"}], \"heatmap\": [{\"colorbar\": {\"outlinewidth\": 0, \"ticks\": \"\"}, \"colorscale\": [[0.0, \"#0d0887\"], [0.1111111111111111, \"#46039f\"], [0.2222222222222222, \"#7201a8\"], [0.3333333333333333, \"#9c179e\"], [0.4444444444444444, \"#bd3786\"], [0.5555555555555556, \"#d8576b\"], [0.6666666666666666, \"#ed7953\"], [0.7777777777777778, \"#fb9f3a\"], [0.8888888888888888, \"#fdca26\"], [1.0, \"#f0f921\"]], \"type\": \"heatmap\"}], \"heatmapgl\": [{\"colorbar\": {\"outlinewidth\": 0, \"ticks\": \"\"}, \"colorscale\": [[0.0, \"#0d0887\"], [0.1111111111111111, \"#46039f\"], [0.2222222222222222, \"#7201a8\"], [0.3333333333333333, \"#9c179e\"], [0.4444444444444444, \"#bd3786\"], [0.5555555555555556, \"#d8576b\"], [0.6666666666666666, \"#ed7953\"], [0.7777777777777778, \"#fb9f3a\"], [0.8888888888888888, \"#fdca26\"], [1.0, \"#f0f921\"]], \"type\": \"heatmapgl\"}], \"histogram\": [{\"marker\": {\"colorbar\": {\"outlinewidth\": 0, \"ticks\": \"\"}}, \"type\": \"histogram\"}], \"histogram2d\": [{\"colorbar\": {\"outlinewidth\": 0, \"ticks\": \"\"}, \"colorscale\": [[0.0, \"#0d0887\"], [0.1111111111111111, \"#46039f\"], [0.2222222222222222, \"#7201a8\"], [0.3333333333333333, \"#9c179e\"], [0.4444444444444444, \"#bd3786\"], [0.5555555555555556, \"#d8576b\"], [0.6666666666666666, \"#ed7953\"], [0.7777777777777778, \"#fb9f3a\"], [0.8888888888888888, \"#fdca26\"], [1.0, \"#f0f921\"]], \"type\": \"histogram2d\"}], \"histogram2dcontour\": [{\"colorbar\": {\"outlinewidth\": 0, \"ticks\": \"\"}, \"colorscale\": [[0.0, \"#0d0887\"], [0.1111111111111111, \"#46039f\"], [0.2222222222222222, \"#7201a8\"], [0.3333333333333333, \"#9c179e\"], [0.4444444444444444, \"#bd3786\"], [0.5555555555555556, \"#d8576b\"], [0.6666666666666666, \"#ed7953\"], [0.7777777777777778, \"#fb9f3a\"], [0.8888888888888888, \"#fdca26\"], [1.0, \"#f0f921\"]], \"type\": \"histogram2dcontour\"}], \"mesh3d\": [{\"colorbar\": {\"outlinewidth\": 0, \"ticks\": \"\"}, \"type\": \"mesh3d\"}], \"parcoords\": [{\"line\": {\"colorbar\": {\"outlinewidth\": 0, \"ticks\": \"\"}}, \"type\": \"parcoords\"}], \"pie\": [{\"automargin\": true, \"type\": \"pie\"}], \"scatter\": [{\"marker\": {\"colorbar\": {\"outlinewidth\": 0, \"ticks\": \"\"}}, \"type\": \"scatter\"}], \"scatter3d\": [{\"line\": {\"colorbar\": {\"outlinewidth\": 0, \"ticks\": \"\"}}, \"marker\": {\"colorbar\": {\"outlinewidth\": 0, \"ticks\": \"\"}}, \"type\": \"scatter3d\"}], \"scattercarpet\": [{\"marker\": {\"colorbar\": {\"outlinewidth\": 0, \"ticks\": \"\"}}, \"type\": \"scattercarpet\"}], \"scattergeo\": [{\"marker\": {\"colorbar\": {\"outlinewidth\": 0, \"ticks\": \"\"}}, \"type\": \"scattergeo\"}], \"scattergl\": [{\"marker\": {\"colorbar\": {\"outlinewidth\": 0, \"ticks\": \"\"}}, \"type\": \"scattergl\"}], \"scattermapbox\": [{\"marker\": {\"colorbar\": {\"outlinewidth\": 0, \"ticks\": \"\"}}, \"type\": \"scattermapbox\"}], \"scatterpolar\": [{\"marker\": {\"colorbar\": {\"outlinewidth\": 0, \"ticks\": \"\"}}, \"type\": \"scatterpolar\"}], \"scatterpolargl\": [{\"marker\": {\"colorbar\": {\"outlinewidth\": 0, \"ticks\": \"\"}}, \"type\": \"scatterpolargl\"}], \"scatterternary\": [{\"marker\": {\"colorbar\": {\"outlinewidth\": 0, \"ticks\": \"\"}}, \"type\": \"scatterternary\"}], \"surface\": [{\"colorbar\": {\"outlinewidth\": 0, \"ticks\": \"\"}, \"colorscale\": [[0.0, \"#0d0887\"], [0.1111111111111111, \"#46039f\"], [0.2222222222222222, \"#7201a8\"], [0.3333333333333333, \"#9c179e\"], [0.4444444444444444, \"#bd3786\"], [0.5555555555555556, \"#d8576b\"], [0.6666666666666666, \"#ed7953\"], [0.7777777777777778, \"#fb9f3a\"], [0.8888888888888888, \"#fdca26\"], [1.0, \"#f0f921\"]], \"type\": \"surface\"}], \"table\": [{\"cells\": {\"fill\": {\"color\": \"#EBF0F8\"}, \"line\": {\"color\": \"white\"}}, \"header\": {\"fill\": {\"color\": \"#C8D4E3\"}, \"line\": {\"color\": \"white\"}}, \"type\": \"table\"}]}, \"layout\": {\"annotationdefaults\": {\"arrowcolor\": \"#2a3f5f\", \"arrowhead\": 0, \"arrowwidth\": 1}, \"coloraxis\": {\"colorbar\": {\"outlinewidth\": 0, \"ticks\": \"\"}}, \"colorscale\": {\"diverging\": [[0, \"#8e0152\"], [0.1, \"#c51b7d\"], [0.2, \"#de77ae\"], [0.3, \"#f1b6da\"], [0.4, \"#fde0ef\"], [0.5, \"#f7f7f7\"], [0.6, \"#e6f5d0\"], [0.7, \"#b8e186\"], [0.8, \"#7fbc41\"], [0.9, \"#4d9221\"], [1, \"#276419\"]], \"sequential\": [[0.0, \"#0d0887\"], [0.1111111111111111, \"#46039f\"], [0.2222222222222222, \"#7201a8\"], [0.3333333333333333, \"#9c179e\"], [0.4444444444444444, \"#bd3786\"], [0.5555555555555556, \"#d8576b\"], [0.6666666666666666, \"#ed7953\"], [0.7777777777777778, \"#fb9f3a\"], [0.8888888888888888, \"#fdca26\"], [1.0, \"#f0f921\"]], \"sequentialminus\": [[0.0, \"#0d0887\"], [0.1111111111111111, \"#46039f\"], [0.2222222222222222, \"#7201a8\"], [0.3333333333333333, \"#9c179e\"], [0.4444444444444444, \"#bd3786\"], [0.5555555555555556, \"#d8576b\"], [0.6666666666666666, \"#ed7953\"], [0.7777777777777778, \"#fb9f3a\"], [0.8888888888888888, \"#fdca26\"], [1.0, \"#f0f921\"]]}, \"colorway\": [\"#636efa\", \"#EF553B\", \"#00cc96\", \"#ab63fa\", \"#FFA15A\", \"#19d3f3\", \"#FF6692\", \"#B6E880\", \"#FF97FF\", \"#FECB52\"], \"font\": {\"color\": \"#2a3f5f\"}, \"geo\": {\"bgcolor\": \"white\", \"lakecolor\": \"white\", \"landcolor\": \"#E5ECF6\", \"showlakes\": true, \"showland\": true, \"subunitcolor\": \"white\"}, \"hoverlabel\": {\"align\": \"left\"}, \"hovermode\": \"closest\", \"mapbox\": {\"style\": \"light\"}, \"paper_bgcolor\": \"white\", \"plot_bgcolor\": \"#E5ECF6\", \"polar\": {\"angularaxis\": {\"gridcolor\": \"white\", \"linecolor\": \"white\", \"ticks\": \"\"}, \"bgcolor\": \"#E5ECF6\", \"radialaxis\": {\"gridcolor\": \"white\", \"linecolor\": \"white\", \"ticks\": \"\"}}, \"scene\": {\"xaxis\": {\"backgroundcolor\": \"#E5ECF6\", \"gridcolor\": \"white\", \"gridwidth\": 2, \"linecolor\": \"white\", \"showbackground\": true, \"ticks\": \"\", \"zerolinecolor\": \"white\"}, \"yaxis\": {\"backgroundcolor\": \"#E5ECF6\", \"gridcolor\": \"white\", \"gridwidth\": 2, \"linecolor\": \"white\", \"showbackground\": true, \"ticks\": \"\", \"zerolinecolor\": \"white\"}, \"zaxis\": {\"backgroundcolor\": \"#E5ECF6\", \"gridcolor\": \"white\", \"gridwidth\": 2, \"linecolor\": \"white\", \"showbackground\": true, \"ticks\": \"\", \"zerolinecolor\": \"white\"}}, \"shapedefaults\": {\"line\": {\"color\": \"#2a3f5f\"}}, \"ternary\": {\"aaxis\": {\"gridcolor\": \"white\", \"linecolor\": \"white\", \"ticks\": \"\"}, \"baxis\": {\"gridcolor\": \"white\", \"linecolor\": \"white\", \"ticks\": \"\"}, \"bgcolor\": \"#E5ECF6\", \"caxis\": {\"gridcolor\": \"white\", \"linecolor\": \"white\", \"ticks\": \"\"}}, \"title\": {\"x\": 0.05}, \"xaxis\": {\"automargin\": true, \"gridcolor\": \"white\", \"linecolor\": \"white\", \"ticks\": \"\", \"title\": {\"standoff\": 15}, \"zerolinecolor\": \"white\", \"zerolinewidth\": 2}, \"yaxis\": {\"automargin\": true, \"gridcolor\": \"white\", \"linecolor\": \"white\", \"ticks\": \"\", \"title\": {\"standoff\": 15}, \"zerolinecolor\": \"white\", \"zerolinewidth\": 2}}}, \"title\": {\"text\": \"Urutan Negara Yang Kesehatannya Rendah Berdasarkan GDP Perkapita\"}, \"xaxis\": {\"anchor\": \"y\", \"domain\": [0.0, 1.0], \"title\": {\"text\": \"Negara\"}}, \"yaxis\": {\"anchor\": \"x\", \"domain\": [0.0, 1.0], \"title\": {\"text\": \"GDPperkapita\"}}},\n",
              "                        {\"responsive\": true}\n",
              "                    ).then(function(){\n",
              "                            \n",
              "var gd = document.getElementById('6ceeb9d8-87d8-43d9-b602-5e368c42ca96');\n",
              "var x = new MutationObserver(function (mutations, observer) {{\n",
              "        var display = window.getComputedStyle(gd).display;\n",
              "        if (!display || display === 'none') {{\n",
              "            console.log([gd, 'removed!']);\n",
              "            Plotly.purge(gd);\n",
              "            observer.disconnect();\n",
              "        }}\n",
              "}});\n",
              "\n",
              "// Listen for the removal of the full notebook cells\n",
              "var notebookContainer = gd.closest('#notebook-container');\n",
              "if (notebookContainer) {{\n",
              "    x.observe(notebookContainer, {childList: true});\n",
              "}}\n",
              "\n",
              "// Listen for the clearing of the current output cell\n",
              "var outputEl = gd.closest('.output');\n",
              "if (outputEl) {{\n",
              "    x.observe(outputEl, {childList: true});\n",
              "}}\n",
              "\n",
              "                        })\n",
              "                };\n",
              "                \n",
              "            </script>\n",
              "        </div>\n",
              "</body>\n",
              "</html>"
            ]
          },
          "metadata": {}
        }
      ]
    }
  ]
}